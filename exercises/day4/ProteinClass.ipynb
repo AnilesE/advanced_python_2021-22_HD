{
 "cells": [
  {
   "cell_type": "code",
   "execution_count": 15,
   "metadata": {},
   "outputs": [],
   "source": [
    "\n",
    "from collections import Counter\n",
    "from collections import deque\n",
    "import csv\n",
    "import matplotlib.pyplot as plt\n",
    "import pandas as pd\n",
    "import plotly\n",
    "import plotly.graph_objs as go\n",
    "import plotly.express as px\n",
    "import numpy as np"
   ]
  },
  {
   "cell_type": "code",
   "execution_count": 16,
   "metadata": {},
   "outputs": [],
   "source": [
    "aa_df = pd.read_csv(\"../../data/amino_acid_properties.csv\")\n",
    "aa_df = aa_df.set_index(\"1-letter code\", drop = False)\n",
    "aa_dict = aa_df.to_dict()\n"
   ]
  },
  {
   "cell_type": "code",
   "execution_count": 17,
   "metadata": {},
   "outputs": [],
   "source": [
    "def open_fasta_file(path):\n",
    "    aa_seq = []                 \n",
    "    with open(path) as f:\n",
    "        for line in f:                          # create list of strings \n",
    "            aa_seq.append(line)   \n",
    "    sequence = []\n",
    "    for i, line in enumerate(aa_seq):           # i as index of each line\n",
    "        line = line.replace(\"\\n\",\"\")            # delete \\n at the end of each string               \n",
    "        if line.startswith(\">\"):                # all the identifier lines (start of protein)\n",
    "            identifier = line.replace(\">\",\"\")\n",
    "        else:\n",
    "            for aa in line:\n",
    "                sequence += aa                  # non identifiers are compressed into one single string \n",
    "    return [identifier, sequence]\n",
    "    \n"
   ]
  },
  {
   "cell_type": "code",
   "execution_count": 37,
   "metadata": {},
   "outputs": [],
   "source": [
    "class Protein:\n",
    "\n",
    "    def __init__(self, ID = \"not known\", \n",
    "                name = \"not known\", \n",
    "                metrics = \"not known\", \n",
    "                fasta_file = \"not known\", \n",
    "                AAsequence = \"not known\",\n",
    "                identifier = \"not known\"):\n",
    "        self.ID = ID\n",
    "        self.name = name\n",
    "        self.metrics = metrics\n",
    "        self.fasta_file = fasta_file\n",
    "        self.AAsequence = AAsequence\n",
    "        self.identifier = identifier\n",
    "    \n",
    "    def open_fasta_file(self, file = None):\n",
    "        if self.fasta_file == \"not known\":\n",
    "            self.fasta_file = file\n",
    "        self.AAsequence = open_fasta_file(self.fasta_file)[1]\n",
    "        self.identifier = open_fasta_file(self.fasta_file)[0]\n",
    "\n",
    "    def create_df(self):\n",
    "        list = []\n",
    "        for x in self.AAsequence:\n",
    "            metric = {}\n",
    "            for key, value in self.metrics.items():\n",
    "                metric.update({key: value[x]})\n",
    "            list.append(metric)\n",
    "        self.df = pd.DataFrame(list)\n",
    "\n",
    "    def averaging_metric(self, metric, window_size):\n",
    "\n",
    "        window = deque([], maxlen=window_size)\n",
    "        average = []\n",
    "        for pos, aa in enumerate(self.AAsequence):\n",
    "            value = self.df[metric][pos]\n",
    "            window.append(value)\n",
    "            average.append(sum(window)/len(window))\n",
    "        return average\n",
    "\n",
    "    def plot(self, metric = \"hydropathy\", window_size = 1):\n",
    "\n",
    "        if metric == \"hydropathy\":\n",
    "            metric = \"hydropathy index (Kyte-Doolittle method)\"\n",
    "\n",
    "        layout = {\"title\": {\"text\": \"{0}, averaging window size: {1}\".format(self.name, window_size)},\n",
    "                \"template\" : \"plotly\", \n",
    "                \"yaxis\": {\"title\": {\"text\": metric}},\n",
    "                \"xaxis\": {\"title\": {\"text\": \"amino acid position\"}}\n",
    "                }\n",
    "\n",
    "        average = self.averaging_metric(metric, window_size = window_size)\n",
    "\n",
    "        data = [\n",
    "            go.Bar(\n",
    "                x = self.df.index,\n",
    "                y = np.array(average),\n",
    "                hovertext=\"Name:\"+self.df[\"Name\"] + \"<br />\" +\\\n",
    "                        \"abbr.:\" + self.df[\"3-letter code\"]+ \", \" + self.df[\"1-letter code\"]\n",
    "            )\n",
    "        ]\n",
    "\n",
    "        fig = go.Figure(data = data, layout = layout)\n",
    "        return fig.show()\n",
    "\n",
    "        "
   ]
  },
  {
   "cell_type": "code",
   "execution_count": 43,
   "metadata": {},
   "outputs": [
    {
     "ename": "AttributeError",
     "evalue": "'Protein' object has no attribute 'df'",
     "output_type": "error",
     "traceback": [
      "\u001b[1;31m---------------------------------------------------------------------------\u001b[0m",
      "\u001b[1;31mAttributeError\u001b[0m                            Traceback (most recent call last)",
      "\u001b[1;32mC:\\Users\\Public\\Documents\\Wondershare\\CreatorTemp/ipykernel_20924/2093075992.py\u001b[0m in \u001b[0;36m<module>\u001b[1;34m\u001b[0m\n\u001b[0;32m      3\u001b[0m                         metrics = aa_dict)\n\u001b[0;32m      4\u001b[0m \u001b[0mProtein_P32249\u001b[0m\u001b[1;33m.\u001b[0m\u001b[0mopen_fasta_file\u001b[0m\u001b[1;33m(\u001b[0m\u001b[1;34m\"P32249.fasta\"\u001b[0m\u001b[1;33m)\u001b[0m\u001b[1;33m\u001b[0m\u001b[1;33m\u001b[0m\u001b[0m\n\u001b[1;32m----> 5\u001b[1;33m \u001b[0mProtein_P32249\u001b[0m\u001b[1;33m.\u001b[0m\u001b[0mdf\u001b[0m\u001b[1;33m\u001b[0m\u001b[1;33m\u001b[0m\u001b[0m\n\u001b[0m\u001b[0;32m      6\u001b[0m \u001b[0mProtein_P32249\u001b[0m\u001b[1;33m.\u001b[0m\u001b[0mplot\u001b[0m\u001b[1;33m(\u001b[0m\u001b[0mwindow_size\u001b[0m \u001b[1;33m=\u001b[0m \u001b[1;36m30\u001b[0m\u001b[1;33m)\u001b[0m\u001b[1;33m\u001b[0m\u001b[1;33m\u001b[0m\u001b[0m\n",
      "\u001b[1;31mAttributeError\u001b[0m: 'Protein' object has no attribute 'df'"
     ]
    }
   ],
   "source": [
    "Protein_P32249 = Protein(\"P32249\", \n",
    "                        \"G-protein coupled receptor 183\", \n",
    "                        metrics = aa_dict)\n",
    "Protein_P32249.open_fasta_file(\"P32249.fasta\")\n",
    "Protein_P32249.create_df()\n",
    "Protein_P32249.plot(window_size = 30)\n"
   ]
  },
  {
   "cell_type": "code",
   "execution_count": null,
   "metadata": {},
   "outputs": [],
   "source": []
  }
 ],
 "metadata": {
  "interpreter": {
   "hash": "f1d89035fd322facadca792ecc07eb95870fedc672cc3f404f565125eb857f01"
  },
  "kernelspec": {
   "display_name": "Python 3.9.1 64-bit ('.venv': venv)",
   "language": "python",
   "name": "python3"
  },
  "language_info": {
   "codemirror_mode": {
    "name": "ipython",
    "version": 3
   },
   "file_extension": ".py",
   "mimetype": "text/x-python",
   "name": "python",
   "nbconvert_exporter": "python",
   "pygments_lexer": "ipython3",
   "version": "3.9.1"
  },
  "orig_nbformat": 4
 },
 "nbformat": 4,
 "nbformat_minor": 2
}
