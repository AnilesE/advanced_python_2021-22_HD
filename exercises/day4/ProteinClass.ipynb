{
 "cells": [
  {
   "cell_type": "code",
   "execution_count": 2,
   "metadata": {},
   "outputs": [],
   "source": [
    "\n",
    "from collections import Counter\n",
    "from collections import deque\n",
    "import csv\n",
    "import matplotlib.pyplot as plt\n",
    "import pandas as pd\n",
    "import plotly\n",
    "import plotly.graph_objs as go\n",
    "import plotly.express as px\n",
    "import numpy as np"
   ]
  },
  {
   "cell_type": "code",
   "execution_count": 3,
   "metadata": {},
   "outputs": [],
   "source": [
    "aa_df = pd.read_csv(\"../../data/amino_acid_properties.csv\")\n",
    "aa_df = aa_df.set_index(\"1-letter code\", drop = False)\n",
    "aa_dict = aa_df.to_dict()\n"
   ]
  },
  {
   "cell_type": "code",
   "execution_count": 4,
   "metadata": {},
   "outputs": [],
   "source": [
    "def open_fasta_file(path):\n",
    "    aa_seq = []                 \n",
    "    with open(path) as f:\n",
    "        for line in f:                          # create list of strings \n",
    "            aa_seq.append(line)   \n",
    "    sequence = []\n",
    "    for i, line in enumerate(aa_seq):           # i as index of each line\n",
    "        line = line.replace(\"\\n\",\"\")            # delete \\n at the end of each string               \n",
    "        if line.startswith(\">\"):                # all the identifier lines (start of protein)\n",
    "            identifier = line.replace(\">\",\"\")\n",
    "        else:\n",
    "            for aa in line:\n",
    "                sequence += aa                  # non identifiers are compressed into one single string \n",
    "    return [identifier, sequence]\n",
    "    \n"
   ]
  },
  {
   "cell_type": "code",
   "execution_count": 13,
   "metadata": {},
   "outputs": [],
   "source": [
    "class Protein:\n",
    "\n",
    "    def __init__(self, ID = \"not known\", \n",
    "                name = \"not known\", \n",
    "                metrics = \"not known\", \n",
    "                fasta_file = \"not known\", \n",
    "                AAsequence = \"not known\",\n",
    "                identifier = \"not known\"):\n",
    "        self.ID = ID\n",
    "        self.name = name\n",
    "        self.metrics = metrics\n",
    "        self.fasta_file = fasta_file\n",
    "        self.AAsequence = AAsequence\n",
    "        self.identifier = identifier\n",
    "    \n",
    "    def open_fasta_file(self, file = None):\n",
    "        if self.fasta_file == \"not known\":\n",
    "            self.fasta_file = file\n",
    "        self.AAsequence = open_fasta_file(self.fasta_file)[1]\n",
    "        self.identifier = open_fasta_file(self.fasta_file)[0]\n",
    "\n",
    "    def create_df(self):\n",
    "        list = []\n",
    "        for x in self.AAsequence:\n",
    "            metric = {}\n",
    "            for key, value in self.metrics.items():\n",
    "                metric.update({key: value[x]})\n",
    "            list.append(metric)\n",
    "        self.df = pd.DataFrame(list)\n",
    "\n",
    "    def plot(self, metric = \"hydropathy\", window_size = 1):\n",
    "\n",
    "        if metric == \"hydropathy\":\n",
    "            metric = \"hydropathy index (Kyte-Doolittle method)\"\n",
    "\n",
    "        layout = {\"title\": {\"text\": \"{0}, averaging window size: {1}\".format(self.name, window_size)},\n",
    "                \"template\" : \"plotly\", \n",
    "                \"yaxis\": {\"title\": {\"text\": metric}},\n",
    "                \"xaxis\": {\"title\": {\"text\": \"amino acid position\"}}\n",
    "                }\n",
    "\n",
    "        window = deque([], maxlen=window_size)\n",
    "        average = []\n",
    "        for pos, aa in enumerate(self.AAsequence):\n",
    "            value = self.df['hydropathy index (Kyte-Doolittle method)'][pos]\n",
    "            window.append(value)\n",
    "            average.append(sum(window)/len(window))\n",
    "\n",
    "        data = [\n",
    "            go.Scatter(\n",
    "                x = self.df.index,\n",
    "                y = np.array(average),\n",
    "                hovertext=\"Name:\"+self.df[\"Name\"] + \"<br />\" +\\\n",
    "                        \"abbr.:\" + self.df[\"3-letter code\"]+ \", \" + self.df[\"1-letter code\"]\n",
    "            )\n",
    "        ]\n",
    "\n",
    "        fig = go.Figure(data = data, layout = layout)\n",
    "        return fig.show()\n",
    "\n",
    "        "
   ]
  },
  {
   "cell_type": "code",
   "execution_count": 14,
   "metadata": {},
   "outputs": [
    {
     "data": {
      "application/vnd.plotly.v1+json": {
       "config": {
        "plotlyServerURL": "https://plot.ly"
       },
       "data": [
        {
         "hovertext": [
          "Name:Methionine<br />abbr.:Met, M",
          "Name:Aspartic acid<br />abbr.:Asp, D",
          "Name:Isoleucine<br />abbr.:Ile, I",
          "Name:Glutamine<br />abbr.:Gln, Q",
          "Name:Methionine<br />abbr.:Met, M",
          "Name:Alanine<br />abbr.:Ala, A",
          "Name:Asparagine<br />abbr.:Asn, N",
          "Name:Asparagine<br />abbr.:Asn, N",
          "Name:Phenylalanine<br />abbr.:Phe, F",
          "Name:Threonine<br />abbr.:Thr, T",
          "Name:Proline<br />abbr.:Pro, P",
          "Name:Proline<br />abbr.:Pro, P",
          "Name:Serine<br />abbr.:Ser, S",
          "Name:Alanine<br />abbr.:Ala, A",
          "Name:Threonine<br />abbr.:Thr, T",
          "Name:Proline<br />abbr.:Pro, P",
          "Name:Glutamine<br />abbr.:Gln, Q",
          "Name:Glycine<br />abbr.:Gly, G",
          "Name:Asparagine<br />abbr.:Asn, N",
          "Name:Aspartic acid<br />abbr.:Asp, D",
          "Name:Cysteine<br />abbr.:Cys, C",
          "Name:Aspartic acid<br />abbr.:Asp, D",
          "Name:Leucine<br />abbr.:Leu, L",
          "Name:Tyrosine<br />abbr.:Tyr, Y",
          "Name:Alanine<br />abbr.:Ala, A",
          "Name:Histidine<br />abbr.:His, H",
          "Name:Histidine<br />abbr.:His, H",
          "Name:Serine<br />abbr.:Ser, S",
          "Name:Threonine<br />abbr.:Thr, T",
          "Name:Alanine<br />abbr.:Ala, A",
          "Name:Arginine<br />abbr.:Arg, R",
          "Name:Isoleucine<br />abbr.:Ile, I",
          "Name:Valine<br />abbr.:Val, V",
          "Name:Methionine<br />abbr.:Met, M",
          "Name:Proline<br />abbr.:Pro, P",
          "Name:Leucine<br />abbr.:Leu, L",
          "Name:Histidine<br />abbr.:His, H",
          "Name:Tyrosine<br />abbr.:Tyr, Y",
          "Name:Serine<br />abbr.:Ser, S",
          "Name:Leucine<br />abbr.:Leu, L",
          "Name:Valine<br />abbr.:Val, V",
          "Name:Phenylalanine<br />abbr.:Phe, F",
          "Name:Isoleucine<br />abbr.:Ile, I",
          "Name:Isoleucine<br />abbr.:Ile, I",
          "Name:Glycine<br />abbr.:Gly, G",
          "Name:Leucine<br />abbr.:Leu, L",
          "Name:Valine<br />abbr.:Val, V",
          "Name:Glycine<br />abbr.:Gly, G",
          "Name:Asparagine<br />abbr.:Asn, N",
          "Name:Leucine<br />abbr.:Leu, L",
          "Name:Leucine<br />abbr.:Leu, L",
          "Name:Alanine<br />abbr.:Ala, A",
          "Name:Leucine<br />abbr.:Leu, L",
          "Name:Valine<br />abbr.:Val, V",
          "Name:Valine<br />abbr.:Val, V",
          "Name:Isoleucine<br />abbr.:Ile, I",
          "Name:Valine<br />abbr.:Val, V",
          "Name:Glutamine<br />abbr.:Gln, Q",
          "Name:Asparagine<br />abbr.:Asn, N",
          "Name:Arginine<br />abbr.:Arg, R",
          "Name:Lysine<br />abbr.:Lys, K",
          "Name:Lysine<br />abbr.:Lys, K",
          "Name:Isoleucine<br />abbr.:Ile, I",
          "Name:Asparagine<br />abbr.:Asn, N",
          "Name:Serine<br />abbr.:Ser, S",
          "Name:Threonine<br />abbr.:Thr, T",
          "Name:Threonine<br />abbr.:Thr, T",
          "Name:Leucine<br />abbr.:Leu, L",
          "Name:Tyrosine<br />abbr.:Tyr, Y",
          "Name:Serine<br />abbr.:Ser, S",
          "Name:Threonine<br />abbr.:Thr, T",
          "Name:Asparagine<br />abbr.:Asn, N",
          "Name:Leucine<br />abbr.:Leu, L",
          "Name:Valine<br />abbr.:Val, V",
          "Name:Isoleucine<br />abbr.:Ile, I",
          "Name:Serine<br />abbr.:Ser, S",
          "Name:Aspartic acid<br />abbr.:Asp, D",
          "Name:Isoleucine<br />abbr.:Ile, I",
          "Name:Leucine<br />abbr.:Leu, L",
          "Name:Phenylalanine<br />abbr.:Phe, F",
          "Name:Threonine<br />abbr.:Thr, T",
          "Name:Threonine<br />abbr.:Thr, T",
          "Name:Alanine<br />abbr.:Ala, A",
          "Name:Leucine<br />abbr.:Leu, L",
          "Name:Proline<br />abbr.:Pro, P",
          "Name:Threonine<br />abbr.:Thr, T",
          "Name:Arginine<br />abbr.:Arg, R",
          "Name:Isoleucine<br />abbr.:Ile, I",
          "Name:Alanine<br />abbr.:Ala, A",
          "Name:Tyrosine<br />abbr.:Tyr, Y",
          "Name:Tyrosine<br />abbr.:Tyr, Y",
          "Name:Alanine<br />abbr.:Ala, A",
          "Name:Methionine<br />abbr.:Met, M",
          "Name:Glycine<br />abbr.:Gly, G",
          "Name:Phenylalanine<br />abbr.:Phe, F",
          "Name:Aspartic acid<br />abbr.:Asp, D",
          "Name:Tryptophan<br />abbr.:Trp, W",
          "Name:Arginine<br />abbr.:Arg, R",
          "Name:Isoleucine<br />abbr.:Ile, I",
          "Name:Glycine<br />abbr.:Gly, G",
          "Name:Aspartic acid<br />abbr.:Asp, D",
          "Name:Alanine<br />abbr.:Ala, A",
          "Name:Leucine<br />abbr.:Leu, L",
          "Name:Cysteine<br />abbr.:Cys, C",
          "Name:Arginine<br />abbr.:Arg, R",
          "Name:Isoleucine<br />abbr.:Ile, I",
          "Name:Threonine<br />abbr.:Thr, T",
          "Name:Alanine<br />abbr.:Ala, A",
          "Name:Leucine<br />abbr.:Leu, L",
          "Name:Valine<br />abbr.:Val, V",
          "Name:Phenylalanine<br />abbr.:Phe, F",
          "Name:Tyrosine<br />abbr.:Tyr, Y",
          "Name:Isoleucine<br />abbr.:Ile, I",
          "Name:Asparagine<br />abbr.:Asn, N",
          "Name:Threonine<br />abbr.:Thr, T",
          "Name:Tyrosine<br />abbr.:Tyr, Y",
          "Name:Alanine<br />abbr.:Ala, A",
          "Name:Glycine<br />abbr.:Gly, G",
          "Name:Valine<br />abbr.:Val, V",
          "Name:Asparagine<br />abbr.:Asn, N",
          "Name:Phenylalanine<br />abbr.:Phe, F",
          "Name:Methionine<br />abbr.:Met, M",
          "Name:Threonine<br />abbr.:Thr, T",
          "Name:Cysteine<br />abbr.:Cys, C",
          "Name:Leucine<br />abbr.:Leu, L",
          "Name:Serine<br />abbr.:Ser, S",
          "Name:Isoleucine<br />abbr.:Ile, I",
          "Name:Aspartic acid<br />abbr.:Asp, D",
          "Name:Arginine<br />abbr.:Arg, R",
          "Name:Phenylalanine<br />abbr.:Phe, F",
          "Name:Isoleucine<br />abbr.:Ile, I",
          "Name:Alanine<br />abbr.:Ala, A",
          "Name:Valine<br />abbr.:Val, V",
          "Name:Valine<br />abbr.:Val, V",
          "Name:Histidine<br />abbr.:His, H",
          "Name:Proline<br />abbr.:Pro, P",
          "Name:Leucine<br />abbr.:Leu, L",
          "Name:Arginine<br />abbr.:Arg, R",
          "Name:Tyrosine<br />abbr.:Tyr, Y",
          "Name:Asparagine<br />abbr.:Asn, N",
          "Name:Lysine<br />abbr.:Lys, K",
          "Name:Isoleucine<br />abbr.:Ile, I",
          "Name:Lysine<br />abbr.:Lys, K",
          "Name:Arginine<br />abbr.:Arg, R",
          "Name:Isoleucine<br />abbr.:Ile, I",
          "Name:Glutamic acid<br />abbr.:Glu, E",
          "Name:Histidine<br />abbr.:His, H",
          "Name:Alanine<br />abbr.:Ala, A",
          "Name:Lysine<br />abbr.:Lys, K",
          "Name:Glycine<br />abbr.:Gly, G",
          "Name:Valine<br />abbr.:Val, V",
          "Name:Cysteine<br />abbr.:Cys, C",
          "Name:Isoleucine<br />abbr.:Ile, I",
          "Name:Phenylalanine<br />abbr.:Phe, F",
          "Name:Valine<br />abbr.:Val, V",
          "Name:Tryptophan<br />abbr.:Trp, W",
          "Name:Isoleucine<br />abbr.:Ile, I",
          "Name:Leucine<br />abbr.:Leu, L",
          "Name:Valine<br />abbr.:Val, V",
          "Name:Phenylalanine<br />abbr.:Phe, F",
          "Name:Alanine<br />abbr.:Ala, A",
          "Name:Glutamine<br />abbr.:Gln, Q",
          "Name:Threonine<br />abbr.:Thr, T",
          "Name:Leucine<br />abbr.:Leu, L",
          "Name:Proline<br />abbr.:Pro, P",
          "Name:Leucine<br />abbr.:Leu, L",
          "Name:Leucine<br />abbr.:Leu, L",
          "Name:Isoleucine<br />abbr.:Ile, I",
          "Name:Asparagine<br />abbr.:Asn, N",
          "Name:Proline<br />abbr.:Pro, P",
          "Name:Methionine<br />abbr.:Met, M",
          "Name:Serine<br />abbr.:Ser, S",
          "Name:Lysine<br />abbr.:Lys, K",
          "Name:Glutamine<br />abbr.:Gln, Q",
          "Name:Glutamic acid<br />abbr.:Glu, E",
          "Name:Alanine<br />abbr.:Ala, A",
          "Name:Glutamic acid<br />abbr.:Glu, E",
          "Name:Arginine<br />abbr.:Arg, R",
          "Name:Isoleucine<br />abbr.:Ile, I",
          "Name:Threonine<br />abbr.:Thr, T",
          "Name:Cysteine<br />abbr.:Cys, C",
          "Name:Methionine<br />abbr.:Met, M",
          "Name:Glutamic acid<br />abbr.:Glu, E",
          "Name:Tyrosine<br />abbr.:Tyr, Y",
          "Name:Proline<br />abbr.:Pro, P",
          "Name:Asparagine<br />abbr.:Asn, N",
          "Name:Phenylalanine<br />abbr.:Phe, F",
          "Name:Glutamic acid<br />abbr.:Glu, E",
          "Name:Glutamic acid<br />abbr.:Glu, E",
          "Name:Threonine<br />abbr.:Thr, T",
          "Name:Lysine<br />abbr.:Lys, K",
          "Name:Serine<br />abbr.:Ser, S",
          "Name:Leucine<br />abbr.:Leu, L",
          "Name:Proline<br />abbr.:Pro, P",
          "Name:Tryptophan<br />abbr.:Trp, W",
          "Name:Isoleucine<br />abbr.:Ile, I",
          "Name:Leucine<br />abbr.:Leu, L",
          "Name:Leucine<br />abbr.:Leu, L",
          "Name:Glycine<br />abbr.:Gly, G",
          "Name:Alanine<br />abbr.:Ala, A",
          "Name:Cysteine<br />abbr.:Cys, C",
          "Name:Phenylalanine<br />abbr.:Phe, F",
          "Name:Isoleucine<br />abbr.:Ile, I",
          "Name:Glycine<br />abbr.:Gly, G",
          "Name:Tyrosine<br />abbr.:Tyr, Y",
          "Name:Valine<br />abbr.:Val, V",
          "Name:Leucine<br />abbr.:Leu, L",
          "Name:Proline<br />abbr.:Pro, P",
          "Name:Leucine<br />abbr.:Leu, L",
          "Name:Isoleucine<br />abbr.:Ile, I",
          "Name:Isoleucine<br />abbr.:Ile, I",
          "Name:Isoleucine<br />abbr.:Ile, I",
          "Name:Leucine<br />abbr.:Leu, L",
          "Name:Isoleucine<br />abbr.:Ile, I",
          "Name:Cysteine<br />abbr.:Cys, C",
          "Name:Tyrosine<br />abbr.:Tyr, Y",
          "Name:Serine<br />abbr.:Ser, S",
          "Name:Glutamine<br />abbr.:Gln, Q",
          "Name:Isoleucine<br />abbr.:Ile, I",
          "Name:Cysteine<br />abbr.:Cys, C",
          "Name:Cysteine<br />abbr.:Cys, C",
          "Name:Lysine<br />abbr.:Lys, K",
          "Name:Leucine<br />abbr.:Leu, L",
          "Name:Phenylalanine<br />abbr.:Phe, F",
          "Name:Arginine<br />abbr.:Arg, R",
          "Name:Threonine<br />abbr.:Thr, T",
          "Name:Alanine<br />abbr.:Ala, A",
          "Name:Lysine<br />abbr.:Lys, K",
          "Name:Glutamine<br />abbr.:Gln, Q",
          "Name:Asparagine<br />abbr.:Asn, N",
          "Name:Proline<br />abbr.:Pro, P",
          "Name:Leucine<br />abbr.:Leu, L",
          "Name:Threonine<br />abbr.:Thr, T",
          "Name:Glutamic acid<br />abbr.:Glu, E",
          "Name:Lysine<br />abbr.:Lys, K",
          "Name:Serine<br />abbr.:Ser, S",
          "Name:Glycine<br />abbr.:Gly, G",
          "Name:Valine<br />abbr.:Val, V",
          "Name:Asparagine<br />abbr.:Asn, N",
          "Name:Lysine<br />abbr.:Lys, K",
          "Name:Lysine<br />abbr.:Lys, K",
          "Name:Alanine<br />abbr.:Ala, A",
          "Name:Leucine<br />abbr.:Leu, L",
          "Name:Asparagine<br />abbr.:Asn, N",
          "Name:Threonine<br />abbr.:Thr, T",
          "Name:Isoleucine<br />abbr.:Ile, I",
          "Name:Isoleucine<br />abbr.:Ile, I",
          "Name:Leucine<br />abbr.:Leu, L",
          "Name:Isoleucine<br />abbr.:Ile, I",
          "Name:Isoleucine<br />abbr.:Ile, I",
          "Name:Valine<br />abbr.:Val, V",
          "Name:Valine<br />abbr.:Val, V",
          "Name:Phenylalanine<br />abbr.:Phe, F",
          "Name:Valine<br />abbr.:Val, V",
          "Name:Leucine<br />abbr.:Leu, L",
          "Name:Cysteine<br />abbr.:Cys, C",
          "Name:Phenylalanine<br />abbr.:Phe, F",
          "Name:Threonine<br />abbr.:Thr, T",
          "Name:Proline<br />abbr.:Pro, P",
          "Name:Tyrosine<br />abbr.:Tyr, Y",
          "Name:Histidine<br />abbr.:His, H",
          "Name:Valine<br />abbr.:Val, V",
          "Name:Alanine<br />abbr.:Ala, A",
          "Name:Isoleucine<br />abbr.:Ile, I",
          "Name:Isoleucine<br />abbr.:Ile, I",
          "Name:Glutamine<br />abbr.:Gln, Q",
          "Name:Histidine<br />abbr.:His, H",
          "Name:Methionine<br />abbr.:Met, M",
          "Name:Isoleucine<br />abbr.:Ile, I",
          "Name:Lysine<br />abbr.:Lys, K",
          "Name:Lysine<br />abbr.:Lys, K",
          "Name:Leucine<br />abbr.:Leu, L",
          "Name:Arginine<br />abbr.:Arg, R",
          "Name:Phenylalanine<br />abbr.:Phe, F",
          "Name:Serine<br />abbr.:Ser, S",
          "Name:Asparagine<br />abbr.:Asn, N",
          "Name:Phenylalanine<br />abbr.:Phe, F",
          "Name:Leucine<br />abbr.:Leu, L",
          "Name:Glutamic acid<br />abbr.:Glu, E",
          "Name:Cysteine<br />abbr.:Cys, C",
          "Name:Serine<br />abbr.:Ser, S",
          "Name:Glutamine<br />abbr.:Gln, Q",
          "Name:Arginine<br />abbr.:Arg, R",
          "Name:Histidine<br />abbr.:His, H",
          "Name:Serine<br />abbr.:Ser, S",
          "Name:Phenylalanine<br />abbr.:Phe, F",
          "Name:Glutamine<br />abbr.:Gln, Q",
          "Name:Isoleucine<br />abbr.:Ile, I",
          "Name:Serine<br />abbr.:Ser, S",
          "Name:Leucine<br />abbr.:Leu, L",
          "Name:Histidine<br />abbr.:His, H",
          "Name:Phenylalanine<br />abbr.:Phe, F",
          "Name:Threonine<br />abbr.:Thr, T",
          "Name:Valine<br />abbr.:Val, V",
          "Name:Cysteine<br />abbr.:Cys, C",
          "Name:Leucine<br />abbr.:Leu, L",
          "Name:Methionine<br />abbr.:Met, M",
          "Name:Asparagine<br />abbr.:Asn, N",
          "Name:Phenylalanine<br />abbr.:Phe, F",
          "Name:Asparagine<br />abbr.:Asn, N",
          "Name:Cysteine<br />abbr.:Cys, C",
          "Name:Cysteine<br />abbr.:Cys, C",
          "Name:Methionine<br />abbr.:Met, M",
          "Name:Aspartic acid<br />abbr.:Asp, D",
          "Name:Proline<br />abbr.:Pro, P",
          "Name:Phenylalanine<br />abbr.:Phe, F",
          "Name:Isoleucine<br />abbr.:Ile, I",
          "Name:Tyrosine<br />abbr.:Tyr, Y",
          "Name:Phenylalanine<br />abbr.:Phe, F",
          "Name:Phenylalanine<br />abbr.:Phe, F",
          "Name:Alanine<br />abbr.:Ala, A",
          "Name:Cysteine<br />abbr.:Cys, C",
          "Name:Lysine<br />abbr.:Lys, K",
          "Name:Glycine<br />abbr.:Gly, G",
          "Name:Tyrosine<br />abbr.:Tyr, Y",
          "Name:Lysine<br />abbr.:Lys, K",
          "Name:Arginine<br />abbr.:Arg, R",
          "Name:Lysine<br />abbr.:Lys, K",
          "Name:Valine<br />abbr.:Val, V",
          "Name:Methionine<br />abbr.:Met, M",
          "Name:Arginine<br />abbr.:Arg, R",
          "Name:Methionine<br />abbr.:Met, M",
          "Name:Leucine<br />abbr.:Leu, L",
          "Name:Lysine<br />abbr.:Lys, K",
          "Name:Arginine<br />abbr.:Arg, R",
          "Name:Glutamine<br />abbr.:Gln, Q",
          "Name:Valine<br />abbr.:Val, V",
          "Name:Serine<br />abbr.:Ser, S",
          "Name:Valine<br />abbr.:Val, V",
          "Name:Serine<br />abbr.:Ser, S",
          "Name:Isoleucine<br />abbr.:Ile, I",
          "Name:Serine<br />abbr.:Ser, S",
          "Name:Serine<br />abbr.:Ser, S",
          "Name:Alanine<br />abbr.:Ala, A",
          "Name:Valine<br />abbr.:Val, V",
          "Name:Lysine<br />abbr.:Lys, K",
          "Name:Serine<br />abbr.:Ser, S",
          "Name:Alanine<br />abbr.:Ala, A",
          "Name:Proline<br />abbr.:Pro, P",
          "Name:Glutamic acid<br />abbr.:Glu, E",
          "Name:Glutamic acid<br />abbr.:Glu, E",
          "Name:Asparagine<br />abbr.:Asn, N",
          "Name:Serine<br />abbr.:Ser, S",
          "Name:Arginine<br />abbr.:Arg, R",
          "Name:Glutamic acid<br />abbr.:Glu, E",
          "Name:Methionine<br />abbr.:Met, M",
          "Name:Threonine<br />abbr.:Thr, T",
          "Name:Glutamic acid<br />abbr.:Glu, E",
          "Name:Threonine<br />abbr.:Thr, T",
          "Name:Glutamine<br />abbr.:Gln, Q",
          "Name:Methionine<br />abbr.:Met, M",
          "Name:Methionine<br />abbr.:Met, M",
          "Name:Isoleucine<br />abbr.:Ile, I",
          "Name:Histidine<br />abbr.:His, H",
          "Name:Serine<br />abbr.:Ser, S",
          "Name:Lysine<br />abbr.:Lys, K",
          "Name:Serine<br />abbr.:Ser, S",
          "Name:Serine<br />abbr.:Ser, S",
          "Name:Asparagine<br />abbr.:Asn, N",
          "Name:Glycine<br />abbr.:Gly, G",
          "Name:Lysine<br />abbr.:Lys, K"
         ],
         "type": "scatter",
         "x": [
          0,
          1,
          2,
          3,
          4,
          5,
          6,
          7,
          8,
          9,
          10,
          11,
          12,
          13,
          14,
          15,
          16,
          17,
          18,
          19,
          20,
          21,
          22,
          23,
          24,
          25,
          26,
          27,
          28,
          29,
          30,
          31,
          32,
          33,
          34,
          35,
          36,
          37,
          38,
          39,
          40,
          41,
          42,
          43,
          44,
          45,
          46,
          47,
          48,
          49,
          50,
          51,
          52,
          53,
          54,
          55,
          56,
          57,
          58,
          59,
          60,
          61,
          62,
          63,
          64,
          65,
          66,
          67,
          68,
          69,
          70,
          71,
          72,
          73,
          74,
          75,
          76,
          77,
          78,
          79,
          80,
          81,
          82,
          83,
          84,
          85,
          86,
          87,
          88,
          89,
          90,
          91,
          92,
          93,
          94,
          95,
          96,
          97,
          98,
          99,
          100,
          101,
          102,
          103,
          104,
          105,
          106,
          107,
          108,
          109,
          110,
          111,
          112,
          113,
          114,
          115,
          116,
          117,
          118,
          119,
          120,
          121,
          122,
          123,
          124,
          125,
          126,
          127,
          128,
          129,
          130,
          131,
          132,
          133,
          134,
          135,
          136,
          137,
          138,
          139,
          140,
          141,
          142,
          143,
          144,
          145,
          146,
          147,
          148,
          149,
          150,
          151,
          152,
          153,
          154,
          155,
          156,
          157,
          158,
          159,
          160,
          161,
          162,
          163,
          164,
          165,
          166,
          167,
          168,
          169,
          170,
          171,
          172,
          173,
          174,
          175,
          176,
          177,
          178,
          179,
          180,
          181,
          182,
          183,
          184,
          185,
          186,
          187,
          188,
          189,
          190,
          191,
          192,
          193,
          194,
          195,
          196,
          197,
          198,
          199,
          200,
          201,
          202,
          203,
          204,
          205,
          206,
          207,
          208,
          209,
          210,
          211,
          212,
          213,
          214,
          215,
          216,
          217,
          218,
          219,
          220,
          221,
          222,
          223,
          224,
          225,
          226,
          227,
          228,
          229,
          230,
          231,
          232,
          233,
          234,
          235,
          236,
          237,
          238,
          239,
          240,
          241,
          242,
          243,
          244,
          245,
          246,
          247,
          248,
          249,
          250,
          251,
          252,
          253,
          254,
          255,
          256,
          257,
          258,
          259,
          260,
          261,
          262,
          263,
          264,
          265,
          266,
          267,
          268,
          269,
          270,
          271,
          272,
          273,
          274,
          275,
          276,
          277,
          278,
          279,
          280,
          281,
          282,
          283,
          284,
          285,
          286,
          287,
          288,
          289,
          290,
          291,
          292,
          293,
          294,
          295,
          296,
          297,
          298,
          299,
          300,
          301,
          302,
          303,
          304,
          305,
          306,
          307,
          308,
          309,
          310,
          311,
          312,
          313,
          314,
          315,
          316,
          317,
          318,
          319,
          320,
          321,
          322,
          323,
          324,
          325,
          326,
          327,
          328,
          329,
          330,
          331,
          332,
          333,
          334,
          335,
          336,
          337,
          338,
          339,
          340,
          341,
          342,
          343,
          344,
          345,
          346,
          347,
          348,
          349,
          350,
          351,
          352,
          353,
          354,
          355,
          356,
          357,
          358,
          359,
          360
         ],
         "y": [
          1.9,
          -3.5,
          4.5,
          -3.5,
          1.9,
          1.8,
          -3.5,
          -3.5,
          2.8,
          -0.7,
          -1.6,
          -1.6,
          -0.8,
          1.8,
          -0.7,
          -1.6,
          -3.5,
          -0.4,
          -3.5,
          -3.5,
          2.5,
          -3.5,
          3.8,
          -1.3,
          1.8,
          -3.2,
          -3.2,
          -0.8,
          -0.7,
          1.8,
          -4.5,
          4.5,
          4.2,
          1.9,
          -1.6,
          3.8,
          -3.2,
          -1.3,
          -0.8,
          3.8,
          4.2,
          2.8,
          4.5,
          4.5,
          -0.4,
          3.8,
          4.2,
          -0.4,
          -3.5,
          3.8,
          3.8,
          1.8,
          3.8,
          4.2,
          4.2,
          4.5,
          4.2,
          -3.5,
          -3.5,
          -4.5,
          -3.9,
          -3.9,
          4.5,
          -3.5,
          -0.8,
          -0.7,
          -0.7,
          3.8,
          -1.3,
          -0.8,
          -0.7,
          -3.5,
          3.8,
          4.2,
          4.5,
          -0.8,
          -3.5,
          4.5,
          3.8,
          2.8,
          -0.7,
          -0.7,
          1.8,
          3.8,
          -1.6,
          -0.7,
          -4.5,
          4.5,
          1.8,
          -1.3,
          -1.3,
          1.8,
          1.9,
          -0.4,
          2.8,
          -3.5,
          -0.9,
          -4.5,
          4.5,
          -0.4,
          -3.5,
          1.8,
          3.8,
          2.5,
          -4.5,
          4.5,
          -0.7,
          1.8,
          3.8,
          4.2,
          2.8,
          -1.3,
          4.5,
          -3.5,
          -0.7,
          -1.3,
          1.8,
          -0.4,
          4.2,
          -3.5,
          2.8,
          1.9,
          -0.7,
          2.5,
          3.8,
          -0.8,
          4.5,
          -3.5,
          -4.5,
          2.8,
          4.5,
          1.8,
          4.2,
          4.2,
          -3.2,
          -1.6,
          3.8,
          -4.5,
          -1.3,
          -3.5,
          -3.9,
          4.5,
          -3.9,
          -4.5,
          4.5,
          -3.5,
          -3.2,
          1.8,
          -3.9,
          -0.4,
          4.2,
          2.5,
          4.5,
          2.8,
          4.2,
          -0.9,
          4.5,
          3.8,
          4.2,
          2.8,
          1.8,
          -3.5,
          -0.7,
          3.8,
          -1.6,
          3.8,
          3.8,
          4.5,
          -3.5,
          -1.6,
          1.9,
          -0.8,
          -3.9,
          -3.5,
          -3.5,
          1.8,
          -3.5,
          -4.5,
          4.5,
          -0.7,
          2.5,
          1.9,
          -3.5,
          -1.3,
          -1.6,
          -3.5,
          2.8,
          -3.5,
          -3.5,
          -0.7,
          -3.9,
          -0.8,
          3.8,
          -1.6,
          -0.9,
          4.5,
          3.8,
          3.8,
          -0.4,
          1.8,
          2.5,
          2.8,
          4.5,
          -0.4,
          -1.3,
          4.2,
          3.8,
          -1.6,
          3.8,
          4.5,
          4.5,
          4.5,
          3.8,
          4.5,
          2.5,
          -1.3,
          -0.8,
          -3.5,
          4.5,
          2.5,
          2.5,
          -3.9,
          3.8,
          2.8,
          -4.5,
          -0.7,
          1.8,
          -3.9,
          -3.5,
          -3.5,
          -1.6,
          3.8,
          -0.7,
          -3.5,
          -3.9,
          -0.8,
          -0.4,
          4.2,
          -3.5,
          -3.9,
          -3.9,
          1.8,
          3.8,
          -3.5,
          -0.7,
          4.5,
          4.5,
          3.8,
          4.5,
          4.5,
          4.2,
          4.2,
          2.8,
          4.2,
          3.8,
          2.5,
          2.8,
          -0.7,
          -1.6,
          -1.3,
          -3.2,
          4.2,
          1.8,
          4.5,
          4.5,
          -3.5,
          -3.2,
          1.9,
          4.5,
          -3.9,
          -3.9,
          3.8,
          -4.5,
          2.8,
          -0.8,
          -3.5,
          2.8,
          3.8,
          -3.5,
          2.5,
          -0.8,
          -3.5,
          -4.5,
          -3.2,
          -0.8,
          2.8,
          -3.5,
          4.5,
          -0.8,
          3.8,
          -3.2,
          2.8,
          -0.7,
          4.2,
          2.5,
          3.8,
          1.9,
          -3.5,
          2.8,
          -3.5,
          2.5,
          2.5,
          1.9,
          -3.5,
          -1.6,
          2.8,
          4.5,
          -1.3,
          2.8,
          2.8,
          1.8,
          2.5,
          -3.9,
          -0.4,
          -1.3,
          -3.9,
          -4.5,
          -3.9,
          4.2,
          1.9,
          -4.5,
          1.9,
          3.8,
          -3.9,
          -4.5,
          -3.5,
          4.2,
          -0.8,
          4.2,
          -0.8,
          4.5,
          -0.8,
          -0.8,
          1.8,
          4.2,
          -3.9,
          -0.8,
          1.8,
          -1.6,
          -3.5,
          -3.5,
          -3.5,
          -0.8,
          -4.5,
          -3.5,
          1.9,
          -0.7,
          -3.5,
          -0.7,
          -3.5,
          1.9,
          1.9,
          4.5,
          -3.2,
          -0.8,
          -3.9,
          -0.8,
          -0.8,
          -3.5,
          -0.4,
          -3.9
         ]
        }
       ],
       "layout": {
        "template": {
         "data": {
          "bar": [
           {
            "error_x": {
             "color": "#2a3f5f"
            },
            "error_y": {
             "color": "#2a3f5f"
            },
            "marker": {
             "line": {
              "color": "#E5ECF6",
              "width": 0.5
             },
             "pattern": {
              "fillmode": "overlay",
              "size": 10,
              "solidity": 0.2
             }
            },
            "type": "bar"
           }
          ],
          "barpolar": [
           {
            "marker": {
             "line": {
              "color": "#E5ECF6",
              "width": 0.5
             },
             "pattern": {
              "fillmode": "overlay",
              "size": 10,
              "solidity": 0.2
             }
            },
            "type": "barpolar"
           }
          ],
          "carpet": [
           {
            "aaxis": {
             "endlinecolor": "#2a3f5f",
             "gridcolor": "white",
             "linecolor": "white",
             "minorgridcolor": "white",
             "startlinecolor": "#2a3f5f"
            },
            "baxis": {
             "endlinecolor": "#2a3f5f",
             "gridcolor": "white",
             "linecolor": "white",
             "minorgridcolor": "white",
             "startlinecolor": "#2a3f5f"
            },
            "type": "carpet"
           }
          ],
          "choropleth": [
           {
            "colorbar": {
             "outlinewidth": 0,
             "ticks": ""
            },
            "type": "choropleth"
           }
          ],
          "contour": [
           {
            "colorbar": {
             "outlinewidth": 0,
             "ticks": ""
            },
            "colorscale": [
             [
              0,
              "#0d0887"
             ],
             [
              0.1111111111111111,
              "#46039f"
             ],
             [
              0.2222222222222222,
              "#7201a8"
             ],
             [
              0.3333333333333333,
              "#9c179e"
             ],
             [
              0.4444444444444444,
              "#bd3786"
             ],
             [
              0.5555555555555556,
              "#d8576b"
             ],
             [
              0.6666666666666666,
              "#ed7953"
             ],
             [
              0.7777777777777778,
              "#fb9f3a"
             ],
             [
              0.8888888888888888,
              "#fdca26"
             ],
             [
              1,
              "#f0f921"
             ]
            ],
            "type": "contour"
           }
          ],
          "contourcarpet": [
           {
            "colorbar": {
             "outlinewidth": 0,
             "ticks": ""
            },
            "type": "contourcarpet"
           }
          ],
          "heatmap": [
           {
            "colorbar": {
             "outlinewidth": 0,
             "ticks": ""
            },
            "colorscale": [
             [
              0,
              "#0d0887"
             ],
             [
              0.1111111111111111,
              "#46039f"
             ],
             [
              0.2222222222222222,
              "#7201a8"
             ],
             [
              0.3333333333333333,
              "#9c179e"
             ],
             [
              0.4444444444444444,
              "#bd3786"
             ],
             [
              0.5555555555555556,
              "#d8576b"
             ],
             [
              0.6666666666666666,
              "#ed7953"
             ],
             [
              0.7777777777777778,
              "#fb9f3a"
             ],
             [
              0.8888888888888888,
              "#fdca26"
             ],
             [
              1,
              "#f0f921"
             ]
            ],
            "type": "heatmap"
           }
          ],
          "heatmapgl": [
           {
            "colorbar": {
             "outlinewidth": 0,
             "ticks": ""
            },
            "colorscale": [
             [
              0,
              "#0d0887"
             ],
             [
              0.1111111111111111,
              "#46039f"
             ],
             [
              0.2222222222222222,
              "#7201a8"
             ],
             [
              0.3333333333333333,
              "#9c179e"
             ],
             [
              0.4444444444444444,
              "#bd3786"
             ],
             [
              0.5555555555555556,
              "#d8576b"
             ],
             [
              0.6666666666666666,
              "#ed7953"
             ],
             [
              0.7777777777777778,
              "#fb9f3a"
             ],
             [
              0.8888888888888888,
              "#fdca26"
             ],
             [
              1,
              "#f0f921"
             ]
            ],
            "type": "heatmapgl"
           }
          ],
          "histogram": [
           {
            "marker": {
             "pattern": {
              "fillmode": "overlay",
              "size": 10,
              "solidity": 0.2
             }
            },
            "type": "histogram"
           }
          ],
          "histogram2d": [
           {
            "colorbar": {
             "outlinewidth": 0,
             "ticks": ""
            },
            "colorscale": [
             [
              0,
              "#0d0887"
             ],
             [
              0.1111111111111111,
              "#46039f"
             ],
             [
              0.2222222222222222,
              "#7201a8"
             ],
             [
              0.3333333333333333,
              "#9c179e"
             ],
             [
              0.4444444444444444,
              "#bd3786"
             ],
             [
              0.5555555555555556,
              "#d8576b"
             ],
             [
              0.6666666666666666,
              "#ed7953"
             ],
             [
              0.7777777777777778,
              "#fb9f3a"
             ],
             [
              0.8888888888888888,
              "#fdca26"
             ],
             [
              1,
              "#f0f921"
             ]
            ],
            "type": "histogram2d"
           }
          ],
          "histogram2dcontour": [
           {
            "colorbar": {
             "outlinewidth": 0,
             "ticks": ""
            },
            "colorscale": [
             [
              0,
              "#0d0887"
             ],
             [
              0.1111111111111111,
              "#46039f"
             ],
             [
              0.2222222222222222,
              "#7201a8"
             ],
             [
              0.3333333333333333,
              "#9c179e"
             ],
             [
              0.4444444444444444,
              "#bd3786"
             ],
             [
              0.5555555555555556,
              "#d8576b"
             ],
             [
              0.6666666666666666,
              "#ed7953"
             ],
             [
              0.7777777777777778,
              "#fb9f3a"
             ],
             [
              0.8888888888888888,
              "#fdca26"
             ],
             [
              1,
              "#f0f921"
             ]
            ],
            "type": "histogram2dcontour"
           }
          ],
          "mesh3d": [
           {
            "colorbar": {
             "outlinewidth": 0,
             "ticks": ""
            },
            "type": "mesh3d"
           }
          ],
          "parcoords": [
           {
            "line": {
             "colorbar": {
              "outlinewidth": 0,
              "ticks": ""
             }
            },
            "type": "parcoords"
           }
          ],
          "pie": [
           {
            "automargin": true,
            "type": "pie"
           }
          ],
          "scatter": [
           {
            "marker": {
             "colorbar": {
              "outlinewidth": 0,
              "ticks": ""
             }
            },
            "type": "scatter"
           }
          ],
          "scatter3d": [
           {
            "line": {
             "colorbar": {
              "outlinewidth": 0,
              "ticks": ""
             }
            },
            "marker": {
             "colorbar": {
              "outlinewidth": 0,
              "ticks": ""
             }
            },
            "type": "scatter3d"
           }
          ],
          "scattercarpet": [
           {
            "marker": {
             "colorbar": {
              "outlinewidth": 0,
              "ticks": ""
             }
            },
            "type": "scattercarpet"
           }
          ],
          "scattergeo": [
           {
            "marker": {
             "colorbar": {
              "outlinewidth": 0,
              "ticks": ""
             }
            },
            "type": "scattergeo"
           }
          ],
          "scattergl": [
           {
            "marker": {
             "colorbar": {
              "outlinewidth": 0,
              "ticks": ""
             }
            },
            "type": "scattergl"
           }
          ],
          "scattermapbox": [
           {
            "marker": {
             "colorbar": {
              "outlinewidth": 0,
              "ticks": ""
             }
            },
            "type": "scattermapbox"
           }
          ],
          "scatterpolar": [
           {
            "marker": {
             "colorbar": {
              "outlinewidth": 0,
              "ticks": ""
             }
            },
            "type": "scatterpolar"
           }
          ],
          "scatterpolargl": [
           {
            "marker": {
             "colorbar": {
              "outlinewidth": 0,
              "ticks": ""
             }
            },
            "type": "scatterpolargl"
           }
          ],
          "scatterternary": [
           {
            "marker": {
             "colorbar": {
              "outlinewidth": 0,
              "ticks": ""
             }
            },
            "type": "scatterternary"
           }
          ],
          "surface": [
           {
            "colorbar": {
             "outlinewidth": 0,
             "ticks": ""
            },
            "colorscale": [
             [
              0,
              "#0d0887"
             ],
             [
              0.1111111111111111,
              "#46039f"
             ],
             [
              0.2222222222222222,
              "#7201a8"
             ],
             [
              0.3333333333333333,
              "#9c179e"
             ],
             [
              0.4444444444444444,
              "#bd3786"
             ],
             [
              0.5555555555555556,
              "#d8576b"
             ],
             [
              0.6666666666666666,
              "#ed7953"
             ],
             [
              0.7777777777777778,
              "#fb9f3a"
             ],
             [
              0.8888888888888888,
              "#fdca26"
             ],
             [
              1,
              "#f0f921"
             ]
            ],
            "type": "surface"
           }
          ],
          "table": [
           {
            "cells": {
             "fill": {
              "color": "#EBF0F8"
             },
             "line": {
              "color": "white"
             }
            },
            "header": {
             "fill": {
              "color": "#C8D4E3"
             },
             "line": {
              "color": "white"
             }
            },
            "type": "table"
           }
          ]
         },
         "layout": {
          "annotationdefaults": {
           "arrowcolor": "#2a3f5f",
           "arrowhead": 0,
           "arrowwidth": 1
          },
          "autotypenumbers": "strict",
          "coloraxis": {
           "colorbar": {
            "outlinewidth": 0,
            "ticks": ""
           }
          },
          "colorscale": {
           "diverging": [
            [
             0,
             "#8e0152"
            ],
            [
             0.1,
             "#c51b7d"
            ],
            [
             0.2,
             "#de77ae"
            ],
            [
             0.3,
             "#f1b6da"
            ],
            [
             0.4,
             "#fde0ef"
            ],
            [
             0.5,
             "#f7f7f7"
            ],
            [
             0.6,
             "#e6f5d0"
            ],
            [
             0.7,
             "#b8e186"
            ],
            [
             0.8,
             "#7fbc41"
            ],
            [
             0.9,
             "#4d9221"
            ],
            [
             1,
             "#276419"
            ]
           ],
           "sequential": [
            [
             0,
             "#0d0887"
            ],
            [
             0.1111111111111111,
             "#46039f"
            ],
            [
             0.2222222222222222,
             "#7201a8"
            ],
            [
             0.3333333333333333,
             "#9c179e"
            ],
            [
             0.4444444444444444,
             "#bd3786"
            ],
            [
             0.5555555555555556,
             "#d8576b"
            ],
            [
             0.6666666666666666,
             "#ed7953"
            ],
            [
             0.7777777777777778,
             "#fb9f3a"
            ],
            [
             0.8888888888888888,
             "#fdca26"
            ],
            [
             1,
             "#f0f921"
            ]
           ],
           "sequentialminus": [
            [
             0,
             "#0d0887"
            ],
            [
             0.1111111111111111,
             "#46039f"
            ],
            [
             0.2222222222222222,
             "#7201a8"
            ],
            [
             0.3333333333333333,
             "#9c179e"
            ],
            [
             0.4444444444444444,
             "#bd3786"
            ],
            [
             0.5555555555555556,
             "#d8576b"
            ],
            [
             0.6666666666666666,
             "#ed7953"
            ],
            [
             0.7777777777777778,
             "#fb9f3a"
            ],
            [
             0.8888888888888888,
             "#fdca26"
            ],
            [
             1,
             "#f0f921"
            ]
           ]
          },
          "colorway": [
           "#636efa",
           "#EF553B",
           "#00cc96",
           "#ab63fa",
           "#FFA15A",
           "#19d3f3",
           "#FF6692",
           "#B6E880",
           "#FF97FF",
           "#FECB52"
          ],
          "font": {
           "color": "#2a3f5f"
          },
          "geo": {
           "bgcolor": "white",
           "lakecolor": "white",
           "landcolor": "#E5ECF6",
           "showlakes": true,
           "showland": true,
           "subunitcolor": "white"
          },
          "hoverlabel": {
           "align": "left"
          },
          "hovermode": "closest",
          "mapbox": {
           "style": "light"
          },
          "paper_bgcolor": "white",
          "plot_bgcolor": "#E5ECF6",
          "polar": {
           "angularaxis": {
            "gridcolor": "white",
            "linecolor": "white",
            "ticks": ""
           },
           "bgcolor": "#E5ECF6",
           "radialaxis": {
            "gridcolor": "white",
            "linecolor": "white",
            "ticks": ""
           }
          },
          "scene": {
           "xaxis": {
            "backgroundcolor": "#E5ECF6",
            "gridcolor": "white",
            "gridwidth": 2,
            "linecolor": "white",
            "showbackground": true,
            "ticks": "",
            "zerolinecolor": "white"
           },
           "yaxis": {
            "backgroundcolor": "#E5ECF6",
            "gridcolor": "white",
            "gridwidth": 2,
            "linecolor": "white",
            "showbackground": true,
            "ticks": "",
            "zerolinecolor": "white"
           },
           "zaxis": {
            "backgroundcolor": "#E5ECF6",
            "gridcolor": "white",
            "gridwidth": 2,
            "linecolor": "white",
            "showbackground": true,
            "ticks": "",
            "zerolinecolor": "white"
           }
          },
          "shapedefaults": {
           "line": {
            "color": "#2a3f5f"
           }
          },
          "ternary": {
           "aaxis": {
            "gridcolor": "white",
            "linecolor": "white",
            "ticks": ""
           },
           "baxis": {
            "gridcolor": "white",
            "linecolor": "white",
            "ticks": ""
           },
           "bgcolor": "#E5ECF6",
           "caxis": {
            "gridcolor": "white",
            "linecolor": "white",
            "ticks": ""
           }
          },
          "title": {
           "x": 0.05
          },
          "xaxis": {
           "automargin": true,
           "gridcolor": "white",
           "linecolor": "white",
           "ticks": "",
           "title": {
            "standoff": 15
           },
           "zerolinecolor": "white",
           "zerolinewidth": 2
          },
          "yaxis": {
           "automargin": true,
           "gridcolor": "white",
           "linecolor": "white",
           "ticks": "",
           "title": {
            "standoff": 15
           },
           "zerolinecolor": "white",
           "zerolinewidth": 2
          }
         }
        },
        "title": {
         "text": "G-protein coupled receptor 183, averaging window size: 1"
        },
        "xaxis": {
         "title": {
          "text": "amino acid position"
         }
        },
        "yaxis": {
         "title": {
          "text": "hydropathy index (Kyte-Doolittle method)"
         }
        }
       }
      }
     },
     "metadata": {},
     "output_type": "display_data"
    },
    {
     "data": {
      "application/vnd.plotly.v1+json": {
       "config": {
        "plotlyServerURL": "https://plot.ly"
       },
       "data": [
        {
         "hovertext": [
          "Name:Methionine<br />abbr.:Met, M",
          "Name:Aspartic acid<br />abbr.:Asp, D",
          "Name:Isoleucine<br />abbr.:Ile, I",
          "Name:Glutamine<br />abbr.:Gln, Q",
          "Name:Methionine<br />abbr.:Met, M",
          "Name:Alanine<br />abbr.:Ala, A",
          "Name:Asparagine<br />abbr.:Asn, N",
          "Name:Asparagine<br />abbr.:Asn, N",
          "Name:Phenylalanine<br />abbr.:Phe, F",
          "Name:Threonine<br />abbr.:Thr, T",
          "Name:Proline<br />abbr.:Pro, P",
          "Name:Proline<br />abbr.:Pro, P",
          "Name:Serine<br />abbr.:Ser, S",
          "Name:Alanine<br />abbr.:Ala, A",
          "Name:Threonine<br />abbr.:Thr, T",
          "Name:Proline<br />abbr.:Pro, P",
          "Name:Glutamine<br />abbr.:Gln, Q",
          "Name:Glycine<br />abbr.:Gly, G",
          "Name:Asparagine<br />abbr.:Asn, N",
          "Name:Aspartic acid<br />abbr.:Asp, D",
          "Name:Cysteine<br />abbr.:Cys, C",
          "Name:Aspartic acid<br />abbr.:Asp, D",
          "Name:Leucine<br />abbr.:Leu, L",
          "Name:Tyrosine<br />abbr.:Tyr, Y",
          "Name:Alanine<br />abbr.:Ala, A",
          "Name:Histidine<br />abbr.:His, H",
          "Name:Histidine<br />abbr.:His, H",
          "Name:Serine<br />abbr.:Ser, S",
          "Name:Threonine<br />abbr.:Thr, T",
          "Name:Alanine<br />abbr.:Ala, A",
          "Name:Arginine<br />abbr.:Arg, R",
          "Name:Isoleucine<br />abbr.:Ile, I",
          "Name:Valine<br />abbr.:Val, V",
          "Name:Methionine<br />abbr.:Met, M",
          "Name:Proline<br />abbr.:Pro, P",
          "Name:Leucine<br />abbr.:Leu, L",
          "Name:Histidine<br />abbr.:His, H",
          "Name:Tyrosine<br />abbr.:Tyr, Y",
          "Name:Serine<br />abbr.:Ser, S",
          "Name:Leucine<br />abbr.:Leu, L",
          "Name:Valine<br />abbr.:Val, V",
          "Name:Phenylalanine<br />abbr.:Phe, F",
          "Name:Isoleucine<br />abbr.:Ile, I",
          "Name:Isoleucine<br />abbr.:Ile, I",
          "Name:Glycine<br />abbr.:Gly, G",
          "Name:Leucine<br />abbr.:Leu, L",
          "Name:Valine<br />abbr.:Val, V",
          "Name:Glycine<br />abbr.:Gly, G",
          "Name:Asparagine<br />abbr.:Asn, N",
          "Name:Leucine<br />abbr.:Leu, L",
          "Name:Leucine<br />abbr.:Leu, L",
          "Name:Alanine<br />abbr.:Ala, A",
          "Name:Leucine<br />abbr.:Leu, L",
          "Name:Valine<br />abbr.:Val, V",
          "Name:Valine<br />abbr.:Val, V",
          "Name:Isoleucine<br />abbr.:Ile, I",
          "Name:Valine<br />abbr.:Val, V",
          "Name:Glutamine<br />abbr.:Gln, Q",
          "Name:Asparagine<br />abbr.:Asn, N",
          "Name:Arginine<br />abbr.:Arg, R",
          "Name:Lysine<br />abbr.:Lys, K",
          "Name:Lysine<br />abbr.:Lys, K",
          "Name:Isoleucine<br />abbr.:Ile, I",
          "Name:Asparagine<br />abbr.:Asn, N",
          "Name:Serine<br />abbr.:Ser, S",
          "Name:Threonine<br />abbr.:Thr, T",
          "Name:Threonine<br />abbr.:Thr, T",
          "Name:Leucine<br />abbr.:Leu, L",
          "Name:Tyrosine<br />abbr.:Tyr, Y",
          "Name:Serine<br />abbr.:Ser, S",
          "Name:Threonine<br />abbr.:Thr, T",
          "Name:Asparagine<br />abbr.:Asn, N",
          "Name:Leucine<br />abbr.:Leu, L",
          "Name:Valine<br />abbr.:Val, V",
          "Name:Isoleucine<br />abbr.:Ile, I",
          "Name:Serine<br />abbr.:Ser, S",
          "Name:Aspartic acid<br />abbr.:Asp, D",
          "Name:Isoleucine<br />abbr.:Ile, I",
          "Name:Leucine<br />abbr.:Leu, L",
          "Name:Phenylalanine<br />abbr.:Phe, F",
          "Name:Threonine<br />abbr.:Thr, T",
          "Name:Threonine<br />abbr.:Thr, T",
          "Name:Alanine<br />abbr.:Ala, A",
          "Name:Leucine<br />abbr.:Leu, L",
          "Name:Proline<br />abbr.:Pro, P",
          "Name:Threonine<br />abbr.:Thr, T",
          "Name:Arginine<br />abbr.:Arg, R",
          "Name:Isoleucine<br />abbr.:Ile, I",
          "Name:Alanine<br />abbr.:Ala, A",
          "Name:Tyrosine<br />abbr.:Tyr, Y",
          "Name:Tyrosine<br />abbr.:Tyr, Y",
          "Name:Alanine<br />abbr.:Ala, A",
          "Name:Methionine<br />abbr.:Met, M",
          "Name:Glycine<br />abbr.:Gly, G",
          "Name:Phenylalanine<br />abbr.:Phe, F",
          "Name:Aspartic acid<br />abbr.:Asp, D",
          "Name:Tryptophan<br />abbr.:Trp, W",
          "Name:Arginine<br />abbr.:Arg, R",
          "Name:Isoleucine<br />abbr.:Ile, I",
          "Name:Glycine<br />abbr.:Gly, G",
          "Name:Aspartic acid<br />abbr.:Asp, D",
          "Name:Alanine<br />abbr.:Ala, A",
          "Name:Leucine<br />abbr.:Leu, L",
          "Name:Cysteine<br />abbr.:Cys, C",
          "Name:Arginine<br />abbr.:Arg, R",
          "Name:Isoleucine<br />abbr.:Ile, I",
          "Name:Threonine<br />abbr.:Thr, T",
          "Name:Alanine<br />abbr.:Ala, A",
          "Name:Leucine<br />abbr.:Leu, L",
          "Name:Valine<br />abbr.:Val, V",
          "Name:Phenylalanine<br />abbr.:Phe, F",
          "Name:Tyrosine<br />abbr.:Tyr, Y",
          "Name:Isoleucine<br />abbr.:Ile, I",
          "Name:Asparagine<br />abbr.:Asn, N",
          "Name:Threonine<br />abbr.:Thr, T",
          "Name:Tyrosine<br />abbr.:Tyr, Y",
          "Name:Alanine<br />abbr.:Ala, A",
          "Name:Glycine<br />abbr.:Gly, G",
          "Name:Valine<br />abbr.:Val, V",
          "Name:Asparagine<br />abbr.:Asn, N",
          "Name:Phenylalanine<br />abbr.:Phe, F",
          "Name:Methionine<br />abbr.:Met, M",
          "Name:Threonine<br />abbr.:Thr, T",
          "Name:Cysteine<br />abbr.:Cys, C",
          "Name:Leucine<br />abbr.:Leu, L",
          "Name:Serine<br />abbr.:Ser, S",
          "Name:Isoleucine<br />abbr.:Ile, I",
          "Name:Aspartic acid<br />abbr.:Asp, D",
          "Name:Arginine<br />abbr.:Arg, R",
          "Name:Phenylalanine<br />abbr.:Phe, F",
          "Name:Isoleucine<br />abbr.:Ile, I",
          "Name:Alanine<br />abbr.:Ala, A",
          "Name:Valine<br />abbr.:Val, V",
          "Name:Valine<br />abbr.:Val, V",
          "Name:Histidine<br />abbr.:His, H",
          "Name:Proline<br />abbr.:Pro, P",
          "Name:Leucine<br />abbr.:Leu, L",
          "Name:Arginine<br />abbr.:Arg, R",
          "Name:Tyrosine<br />abbr.:Tyr, Y",
          "Name:Asparagine<br />abbr.:Asn, N",
          "Name:Lysine<br />abbr.:Lys, K",
          "Name:Isoleucine<br />abbr.:Ile, I",
          "Name:Lysine<br />abbr.:Lys, K",
          "Name:Arginine<br />abbr.:Arg, R",
          "Name:Isoleucine<br />abbr.:Ile, I",
          "Name:Glutamic acid<br />abbr.:Glu, E",
          "Name:Histidine<br />abbr.:His, H",
          "Name:Alanine<br />abbr.:Ala, A",
          "Name:Lysine<br />abbr.:Lys, K",
          "Name:Glycine<br />abbr.:Gly, G",
          "Name:Valine<br />abbr.:Val, V",
          "Name:Cysteine<br />abbr.:Cys, C",
          "Name:Isoleucine<br />abbr.:Ile, I",
          "Name:Phenylalanine<br />abbr.:Phe, F",
          "Name:Valine<br />abbr.:Val, V",
          "Name:Tryptophan<br />abbr.:Trp, W",
          "Name:Isoleucine<br />abbr.:Ile, I",
          "Name:Leucine<br />abbr.:Leu, L",
          "Name:Valine<br />abbr.:Val, V",
          "Name:Phenylalanine<br />abbr.:Phe, F",
          "Name:Alanine<br />abbr.:Ala, A",
          "Name:Glutamine<br />abbr.:Gln, Q",
          "Name:Threonine<br />abbr.:Thr, T",
          "Name:Leucine<br />abbr.:Leu, L",
          "Name:Proline<br />abbr.:Pro, P",
          "Name:Leucine<br />abbr.:Leu, L",
          "Name:Leucine<br />abbr.:Leu, L",
          "Name:Isoleucine<br />abbr.:Ile, I",
          "Name:Asparagine<br />abbr.:Asn, N",
          "Name:Proline<br />abbr.:Pro, P",
          "Name:Methionine<br />abbr.:Met, M",
          "Name:Serine<br />abbr.:Ser, S",
          "Name:Lysine<br />abbr.:Lys, K",
          "Name:Glutamine<br />abbr.:Gln, Q",
          "Name:Glutamic acid<br />abbr.:Glu, E",
          "Name:Alanine<br />abbr.:Ala, A",
          "Name:Glutamic acid<br />abbr.:Glu, E",
          "Name:Arginine<br />abbr.:Arg, R",
          "Name:Isoleucine<br />abbr.:Ile, I",
          "Name:Threonine<br />abbr.:Thr, T",
          "Name:Cysteine<br />abbr.:Cys, C",
          "Name:Methionine<br />abbr.:Met, M",
          "Name:Glutamic acid<br />abbr.:Glu, E",
          "Name:Tyrosine<br />abbr.:Tyr, Y",
          "Name:Proline<br />abbr.:Pro, P",
          "Name:Asparagine<br />abbr.:Asn, N",
          "Name:Phenylalanine<br />abbr.:Phe, F",
          "Name:Glutamic acid<br />abbr.:Glu, E",
          "Name:Glutamic acid<br />abbr.:Glu, E",
          "Name:Threonine<br />abbr.:Thr, T",
          "Name:Lysine<br />abbr.:Lys, K",
          "Name:Serine<br />abbr.:Ser, S",
          "Name:Leucine<br />abbr.:Leu, L",
          "Name:Proline<br />abbr.:Pro, P",
          "Name:Tryptophan<br />abbr.:Trp, W",
          "Name:Isoleucine<br />abbr.:Ile, I",
          "Name:Leucine<br />abbr.:Leu, L",
          "Name:Leucine<br />abbr.:Leu, L",
          "Name:Glycine<br />abbr.:Gly, G",
          "Name:Alanine<br />abbr.:Ala, A",
          "Name:Cysteine<br />abbr.:Cys, C",
          "Name:Phenylalanine<br />abbr.:Phe, F",
          "Name:Isoleucine<br />abbr.:Ile, I",
          "Name:Glycine<br />abbr.:Gly, G",
          "Name:Tyrosine<br />abbr.:Tyr, Y",
          "Name:Valine<br />abbr.:Val, V",
          "Name:Leucine<br />abbr.:Leu, L",
          "Name:Proline<br />abbr.:Pro, P",
          "Name:Leucine<br />abbr.:Leu, L",
          "Name:Isoleucine<br />abbr.:Ile, I",
          "Name:Isoleucine<br />abbr.:Ile, I",
          "Name:Isoleucine<br />abbr.:Ile, I",
          "Name:Leucine<br />abbr.:Leu, L",
          "Name:Isoleucine<br />abbr.:Ile, I",
          "Name:Cysteine<br />abbr.:Cys, C",
          "Name:Tyrosine<br />abbr.:Tyr, Y",
          "Name:Serine<br />abbr.:Ser, S",
          "Name:Glutamine<br />abbr.:Gln, Q",
          "Name:Isoleucine<br />abbr.:Ile, I",
          "Name:Cysteine<br />abbr.:Cys, C",
          "Name:Cysteine<br />abbr.:Cys, C",
          "Name:Lysine<br />abbr.:Lys, K",
          "Name:Leucine<br />abbr.:Leu, L",
          "Name:Phenylalanine<br />abbr.:Phe, F",
          "Name:Arginine<br />abbr.:Arg, R",
          "Name:Threonine<br />abbr.:Thr, T",
          "Name:Alanine<br />abbr.:Ala, A",
          "Name:Lysine<br />abbr.:Lys, K",
          "Name:Glutamine<br />abbr.:Gln, Q",
          "Name:Asparagine<br />abbr.:Asn, N",
          "Name:Proline<br />abbr.:Pro, P",
          "Name:Leucine<br />abbr.:Leu, L",
          "Name:Threonine<br />abbr.:Thr, T",
          "Name:Glutamic acid<br />abbr.:Glu, E",
          "Name:Lysine<br />abbr.:Lys, K",
          "Name:Serine<br />abbr.:Ser, S",
          "Name:Glycine<br />abbr.:Gly, G",
          "Name:Valine<br />abbr.:Val, V",
          "Name:Asparagine<br />abbr.:Asn, N",
          "Name:Lysine<br />abbr.:Lys, K",
          "Name:Lysine<br />abbr.:Lys, K",
          "Name:Alanine<br />abbr.:Ala, A",
          "Name:Leucine<br />abbr.:Leu, L",
          "Name:Asparagine<br />abbr.:Asn, N",
          "Name:Threonine<br />abbr.:Thr, T",
          "Name:Isoleucine<br />abbr.:Ile, I",
          "Name:Isoleucine<br />abbr.:Ile, I",
          "Name:Leucine<br />abbr.:Leu, L",
          "Name:Isoleucine<br />abbr.:Ile, I",
          "Name:Isoleucine<br />abbr.:Ile, I",
          "Name:Valine<br />abbr.:Val, V",
          "Name:Valine<br />abbr.:Val, V",
          "Name:Phenylalanine<br />abbr.:Phe, F",
          "Name:Valine<br />abbr.:Val, V",
          "Name:Leucine<br />abbr.:Leu, L",
          "Name:Cysteine<br />abbr.:Cys, C",
          "Name:Phenylalanine<br />abbr.:Phe, F",
          "Name:Threonine<br />abbr.:Thr, T",
          "Name:Proline<br />abbr.:Pro, P",
          "Name:Tyrosine<br />abbr.:Tyr, Y",
          "Name:Histidine<br />abbr.:His, H",
          "Name:Valine<br />abbr.:Val, V",
          "Name:Alanine<br />abbr.:Ala, A",
          "Name:Isoleucine<br />abbr.:Ile, I",
          "Name:Isoleucine<br />abbr.:Ile, I",
          "Name:Glutamine<br />abbr.:Gln, Q",
          "Name:Histidine<br />abbr.:His, H",
          "Name:Methionine<br />abbr.:Met, M",
          "Name:Isoleucine<br />abbr.:Ile, I",
          "Name:Lysine<br />abbr.:Lys, K",
          "Name:Lysine<br />abbr.:Lys, K",
          "Name:Leucine<br />abbr.:Leu, L",
          "Name:Arginine<br />abbr.:Arg, R",
          "Name:Phenylalanine<br />abbr.:Phe, F",
          "Name:Serine<br />abbr.:Ser, S",
          "Name:Asparagine<br />abbr.:Asn, N",
          "Name:Phenylalanine<br />abbr.:Phe, F",
          "Name:Leucine<br />abbr.:Leu, L",
          "Name:Glutamic acid<br />abbr.:Glu, E",
          "Name:Cysteine<br />abbr.:Cys, C",
          "Name:Serine<br />abbr.:Ser, S",
          "Name:Glutamine<br />abbr.:Gln, Q",
          "Name:Arginine<br />abbr.:Arg, R",
          "Name:Histidine<br />abbr.:His, H",
          "Name:Serine<br />abbr.:Ser, S",
          "Name:Phenylalanine<br />abbr.:Phe, F",
          "Name:Glutamine<br />abbr.:Gln, Q",
          "Name:Isoleucine<br />abbr.:Ile, I",
          "Name:Serine<br />abbr.:Ser, S",
          "Name:Leucine<br />abbr.:Leu, L",
          "Name:Histidine<br />abbr.:His, H",
          "Name:Phenylalanine<br />abbr.:Phe, F",
          "Name:Threonine<br />abbr.:Thr, T",
          "Name:Valine<br />abbr.:Val, V",
          "Name:Cysteine<br />abbr.:Cys, C",
          "Name:Leucine<br />abbr.:Leu, L",
          "Name:Methionine<br />abbr.:Met, M",
          "Name:Asparagine<br />abbr.:Asn, N",
          "Name:Phenylalanine<br />abbr.:Phe, F",
          "Name:Asparagine<br />abbr.:Asn, N",
          "Name:Cysteine<br />abbr.:Cys, C",
          "Name:Cysteine<br />abbr.:Cys, C",
          "Name:Methionine<br />abbr.:Met, M",
          "Name:Aspartic acid<br />abbr.:Asp, D",
          "Name:Proline<br />abbr.:Pro, P",
          "Name:Phenylalanine<br />abbr.:Phe, F",
          "Name:Isoleucine<br />abbr.:Ile, I",
          "Name:Tyrosine<br />abbr.:Tyr, Y",
          "Name:Phenylalanine<br />abbr.:Phe, F",
          "Name:Phenylalanine<br />abbr.:Phe, F",
          "Name:Alanine<br />abbr.:Ala, A",
          "Name:Cysteine<br />abbr.:Cys, C",
          "Name:Lysine<br />abbr.:Lys, K",
          "Name:Glycine<br />abbr.:Gly, G",
          "Name:Tyrosine<br />abbr.:Tyr, Y",
          "Name:Lysine<br />abbr.:Lys, K",
          "Name:Arginine<br />abbr.:Arg, R",
          "Name:Lysine<br />abbr.:Lys, K",
          "Name:Valine<br />abbr.:Val, V",
          "Name:Methionine<br />abbr.:Met, M",
          "Name:Arginine<br />abbr.:Arg, R",
          "Name:Methionine<br />abbr.:Met, M",
          "Name:Leucine<br />abbr.:Leu, L",
          "Name:Lysine<br />abbr.:Lys, K",
          "Name:Arginine<br />abbr.:Arg, R",
          "Name:Glutamine<br />abbr.:Gln, Q",
          "Name:Valine<br />abbr.:Val, V",
          "Name:Serine<br />abbr.:Ser, S",
          "Name:Valine<br />abbr.:Val, V",
          "Name:Serine<br />abbr.:Ser, S",
          "Name:Isoleucine<br />abbr.:Ile, I",
          "Name:Serine<br />abbr.:Ser, S",
          "Name:Serine<br />abbr.:Ser, S",
          "Name:Alanine<br />abbr.:Ala, A",
          "Name:Valine<br />abbr.:Val, V",
          "Name:Lysine<br />abbr.:Lys, K",
          "Name:Serine<br />abbr.:Ser, S",
          "Name:Alanine<br />abbr.:Ala, A",
          "Name:Proline<br />abbr.:Pro, P",
          "Name:Glutamic acid<br />abbr.:Glu, E",
          "Name:Glutamic acid<br />abbr.:Glu, E",
          "Name:Asparagine<br />abbr.:Asn, N",
          "Name:Serine<br />abbr.:Ser, S",
          "Name:Arginine<br />abbr.:Arg, R",
          "Name:Glutamic acid<br />abbr.:Glu, E",
          "Name:Methionine<br />abbr.:Met, M",
          "Name:Threonine<br />abbr.:Thr, T",
          "Name:Glutamic acid<br />abbr.:Glu, E",
          "Name:Threonine<br />abbr.:Thr, T",
          "Name:Glutamine<br />abbr.:Gln, Q",
          "Name:Methionine<br />abbr.:Met, M",
          "Name:Methionine<br />abbr.:Met, M",
          "Name:Isoleucine<br />abbr.:Ile, I",
          "Name:Histidine<br />abbr.:His, H",
          "Name:Serine<br />abbr.:Ser, S",
          "Name:Lysine<br />abbr.:Lys, K",
          "Name:Serine<br />abbr.:Ser, S",
          "Name:Serine<br />abbr.:Ser, S",
          "Name:Asparagine<br />abbr.:Asn, N",
          "Name:Glycine<br />abbr.:Gly, G",
          "Name:Lysine<br />abbr.:Lys, K"
         ],
         "type": "scatter",
         "x": [
          0,
          1,
          2,
          3,
          4,
          5,
          6,
          7,
          8,
          9,
          10,
          11,
          12,
          13,
          14,
          15,
          16,
          17,
          18,
          19,
          20,
          21,
          22,
          23,
          24,
          25,
          26,
          27,
          28,
          29,
          30,
          31,
          32,
          33,
          34,
          35,
          36,
          37,
          38,
          39,
          40,
          41,
          42,
          43,
          44,
          45,
          46,
          47,
          48,
          49,
          50,
          51,
          52,
          53,
          54,
          55,
          56,
          57,
          58,
          59,
          60,
          61,
          62,
          63,
          64,
          65,
          66,
          67,
          68,
          69,
          70,
          71,
          72,
          73,
          74,
          75,
          76,
          77,
          78,
          79,
          80,
          81,
          82,
          83,
          84,
          85,
          86,
          87,
          88,
          89,
          90,
          91,
          92,
          93,
          94,
          95,
          96,
          97,
          98,
          99,
          100,
          101,
          102,
          103,
          104,
          105,
          106,
          107,
          108,
          109,
          110,
          111,
          112,
          113,
          114,
          115,
          116,
          117,
          118,
          119,
          120,
          121,
          122,
          123,
          124,
          125,
          126,
          127,
          128,
          129,
          130,
          131,
          132,
          133,
          134,
          135,
          136,
          137,
          138,
          139,
          140,
          141,
          142,
          143,
          144,
          145,
          146,
          147,
          148,
          149,
          150,
          151,
          152,
          153,
          154,
          155,
          156,
          157,
          158,
          159,
          160,
          161,
          162,
          163,
          164,
          165,
          166,
          167,
          168,
          169,
          170,
          171,
          172,
          173,
          174,
          175,
          176,
          177,
          178,
          179,
          180,
          181,
          182,
          183,
          184,
          185,
          186,
          187,
          188,
          189,
          190,
          191,
          192,
          193,
          194,
          195,
          196,
          197,
          198,
          199,
          200,
          201,
          202,
          203,
          204,
          205,
          206,
          207,
          208,
          209,
          210,
          211,
          212,
          213,
          214,
          215,
          216,
          217,
          218,
          219,
          220,
          221,
          222,
          223,
          224,
          225,
          226,
          227,
          228,
          229,
          230,
          231,
          232,
          233,
          234,
          235,
          236,
          237,
          238,
          239,
          240,
          241,
          242,
          243,
          244,
          245,
          246,
          247,
          248,
          249,
          250,
          251,
          252,
          253,
          254,
          255,
          256,
          257,
          258,
          259,
          260,
          261,
          262,
          263,
          264,
          265,
          266,
          267,
          268,
          269,
          270,
          271,
          272,
          273,
          274,
          275,
          276,
          277,
          278,
          279,
          280,
          281,
          282,
          283,
          284,
          285,
          286,
          287,
          288,
          289,
          290,
          291,
          292,
          293,
          294,
          295,
          296,
          297,
          298,
          299,
          300,
          301,
          302,
          303,
          304,
          305,
          306,
          307,
          308,
          309,
          310,
          311,
          312,
          313,
          314,
          315,
          316,
          317,
          318,
          319,
          320,
          321,
          322,
          323,
          324,
          325,
          326,
          327,
          328,
          329,
          330,
          331,
          332,
          333,
          334,
          335,
          336,
          337,
          338,
          339,
          340,
          341,
          342,
          343,
          344,
          345,
          346,
          347,
          348,
          349,
          350,
          351,
          352,
          353,
          354,
          355,
          356,
          357,
          358,
          359,
          360
         ],
         "y": [
          1.9,
          -0.8,
          0.9666666666666667,
          -0.15000000000000002,
          0.25999999999999995,
          0.24,
          0.24000000000000005,
          -1.3599999999999999,
          -0.1,
          -0.6200000000000001,
          -1.3,
          -0.9199999999999999,
          -0.3800000000000001,
          -0.5800000000000001,
          -0.5800000000000001,
          -0.5800000000000001,
          -0.96,
          -0.8800000000000001,
          -1.94,
          -2.5,
          -1.6800000000000002,
          -1.6800000000000002,
          -0.8400000000000001,
          -0.4,
          0.6599999999999999,
          -0.4800000000000001,
          -0.4200000000000001,
          -1.34,
          -1.2200000000000002,
          -1.2200000000000002,
          -1.48,
          0.05999999999999996,
          1.06,
          1.58,
          0.9,
          2.56,
          1.02,
          -0.08000000000000011,
          -0.6200000000000001,
          0.45999999999999985,
          0.54,
          1.7399999999999998,
          2.9,
          3.96,
          3.12,
          3.04,
          3.3199999999999994,
          2.34,
          0.7399999999999999,
          1.5799999999999998,
          1.5799999999999998,
          1.1,
          1.94,
          3.4799999999999995,
          3.5599999999999996,
          3.7,
          4.18,
          2.72,
          1.1799999999999997,
          -0.5600000000000002,
          -2.2399999999999998,
          -3.8600000000000003,
          -2.2600000000000002,
          -2.2600000000000002,
          -1.52,
          -0.8800000000000001,
          -0.24,
          -0.38000000000000006,
          0.05999999999999992,
          0.05999999999999996,
          0.05999999999999992,
          -0.5,
          -0.5,
          0.6,
          1.6600000000000001,
          1.64,
          1.64,
          1.7799999999999998,
          1.7,
          1.3599999999999999,
          1.38,
          1.9400000000000006,
          1.4,
          1.4,
          0.52,
          0.5200000000000001,
          -0.24000000000000005,
          0.3,
          -0.09999999999999995,
          -0.040000000000000036,
          -0.16,
          1.1,
          0.58,
          0.13999999999999996,
          0.96,
          0.5199999999999999,
          -0.02000000000000004,
          -1.3,
          -0.31999999999999995,
          -0.9600000000000002,
          -0.9600000000000002,
          -0.41999999999999993,
          1.2399999999999998,
          0.8400000000000001,
          0.019999999999999928,
          1.6199999999999999,
          1.1199999999999999,
          0.72,
          0.9800000000000001,
          2.7199999999999998,
          2.3800000000000003,
          2.2600000000000002,
          2.8,
          1.3399999999999999,
          0.36,
          -0.45999999999999996,
          0.16,
          -0.8200000000000001,
          0.72,
          0.15999999999999998,
          0.9799999999999999,
          1,
          0.9400000000000001,
          0.6,
          2.0599999999999996,
          1.34,
          1.86,
          1.3,
          -0.1,
          -0.3,
          0.76,
          0.21999999999999997,
          1.7600000000000002,
          3.5,
          2.3,
          1.0799999999999996,
          1.48,
          -0.26000000000000006,
          -1.36,
          -1.4200000000000002,
          -1.8800000000000001,
          -1.7400000000000002,
          -1.6199999999999999,
          -2.2600000000000002,
          -0.6599999999999999,
          -0.58,
          -2.12,
          -0.9800000000000001,
          -0.86,
          -1.8400000000000003,
          -0.3,
          0.8400000000000002,
          1.3800000000000001,
          2.72,
          3.6399999999999997,
          2.62,
          3.02,
          2.88,
          3.16,
          2.8800000000000003,
          3.4200000000000004,
          1.8200000000000003,
          0.9200000000000002,
          0.8399999999999999,
          -0.040000000000000036,
          0.3599999999999999,
          1.8199999999999996,
          2.8600000000000003,
          1.4,
          1.4,
          1.02,
          0.09999999999999995,
          -1.58,
          -1.58,
          -1.9600000000000002,
          -1.9799999999999998,
          -2.52,
          -2.6399999999999997,
          -1.0399999999999998,
          -0.4800000000000001,
          -0.34,
          0.74,
          0.9399999999999998,
          -0.21999999999999997,
          -0.39999999999999997,
          -1.6,
          -1.4200000000000002,
          -1.4200000000000002,
          -1.86,
          -1.6800000000000002,
          -1.7600000000000002,
          -2.48,
          -1.02,
          -0.6399999999999999,
          -0.68,
          1,
          1.92,
          1.92,
          2.1599999999999997,
          2.7,
          2.3,
          2.1,
          2.2399999999999998,
          2.2399999999999998,
          1.6199999999999999,
          1.9600000000000002,
          2.16,
          0.9399999999999998,
          1.7799999999999998,
          2.94,
          3,
          3.1399999999999997,
          4.220000000000001,
          4.36,
          3.96,
          2.8,
          1.7399999999999998,
          0.2800000000000001,
          0.27999999999999997,
          0.2800000000000001,
          1.04,
          0.42000000000000004,
          1.8799999999999997,
          1.54,
          0.13999999999999985,
          -0.5,
          0.6399999999999999,
          -0.9,
          -2.16,
          -1.9600000000000002,
          -2.1399999999999997,
          -1.7399999999999998,
          -1.1,
          -1.1,
          -1.1800000000000002,
          -1.02,
          -1.86,
          -0.8800000000000002,
          -0.8800000000000001,
          -0.8800000000000001,
          -1.5,
          -1.06,
          -1.1400000000000001,
          -1.1400000000000001,
          -0.5,
          1.18,
          1.72,
          1.72,
          3.3200000000000003,
          4.36,
          4.3,
          4.24,
          4.04,
          3.9799999999999995,
          3.84,
          3.5,
          3.22,
          2.5200000000000005,
          1.36,
          0.3399999999999999,
          -0.8000000000000002,
          -0.5199999999999999,
          -0.020000000000000063,
          1.2,
          2.3600000000000003,
          2.3,
          0.8200000000000001,
          0.8399999999999999,
          0.8399999999999999,
          -0.8400000000000002,
          -0.9199999999999999,
          0.4800000000000001,
          -0.8,
          -1.1400000000000001,
          -0.5199999999999999,
          -0.44000000000000006,
          -0.64,
          1.02,
          -0.24000000000000005,
          0.41999999999999993,
          0.96,
          -0.30000000000000004,
          -1.9600000000000002,
          -1.9,
          -2.56,
          -1.8399999999999999,
          -1.8399999999999999,
          -0.040000000000000036,
          0.44000000000000006,
          1.3599999999999999,
          0.15999999999999998,
          1.42,
          0.37999999999999995,
          1.38,
          1.1199999999999999,
          2.5200000000000005,
          2.3400000000000003,
          1.78,
          1.4999999999999998,
          0.2999999999999998,
          0.039999999999999945,
          0.15999999999999998,
          1.2399999999999998,
          -0.020000000000000018,
          0.36000000000000004,
          0.42000000000000004,
          0.82,
          0.18000000000000002,
          1.44,
          2.3200000000000003,
          2.12,
          1.72,
          1.1999999999999997,
          0.5599999999999999,
          -0.26000000000000006,
          -1.4,
          -2.8,
          -2.8,
          -1.8799999999999997,
          -1.2400000000000002,
          -1.36,
          -0.07999999999999999,
          1.4599999999999997,
          -0.16000000000000006,
          -1.44,
          -1.2400000000000002,
          -0.7799999999999999,
          -1.7,
          -0.07999999999999989,
          0.6600000000000001,
          2.2600000000000002,
          1.2600000000000002,
          1.2600000000000002,
          0.78,
          1.78,
          0.10000000000000009,
          0.10000000000000005,
          0.62,
          -0.05999999999999996,
          -1.6,
          -1.52,
          -2.06,
          -2.58,
          -3.16,
          -3.16,
          -2.08,
          -1.52,
          -2.06,
          -1.3,
          -1.3,
          -1.3,
          -0.7800000000000001,
          0.82,
          0.31999999999999995,
          0.8600000000000001,
          -0.29999999999999993,
          -0.8400000000000001,
          -1.9000000000000004,
          -1.9600000000000002,
          -1.8800000000000001,
          -1.8800000000000001
         ]
        }
       ],
       "layout": {
        "template": {
         "data": {
          "bar": [
           {
            "error_x": {
             "color": "#2a3f5f"
            },
            "error_y": {
             "color": "#2a3f5f"
            },
            "marker": {
             "line": {
              "color": "#E5ECF6",
              "width": 0.5
             },
             "pattern": {
              "fillmode": "overlay",
              "size": 10,
              "solidity": 0.2
             }
            },
            "type": "bar"
           }
          ],
          "barpolar": [
           {
            "marker": {
             "line": {
              "color": "#E5ECF6",
              "width": 0.5
             },
             "pattern": {
              "fillmode": "overlay",
              "size": 10,
              "solidity": 0.2
             }
            },
            "type": "barpolar"
           }
          ],
          "carpet": [
           {
            "aaxis": {
             "endlinecolor": "#2a3f5f",
             "gridcolor": "white",
             "linecolor": "white",
             "minorgridcolor": "white",
             "startlinecolor": "#2a3f5f"
            },
            "baxis": {
             "endlinecolor": "#2a3f5f",
             "gridcolor": "white",
             "linecolor": "white",
             "minorgridcolor": "white",
             "startlinecolor": "#2a3f5f"
            },
            "type": "carpet"
           }
          ],
          "choropleth": [
           {
            "colorbar": {
             "outlinewidth": 0,
             "ticks": ""
            },
            "type": "choropleth"
           }
          ],
          "contour": [
           {
            "colorbar": {
             "outlinewidth": 0,
             "ticks": ""
            },
            "colorscale": [
             [
              0,
              "#0d0887"
             ],
             [
              0.1111111111111111,
              "#46039f"
             ],
             [
              0.2222222222222222,
              "#7201a8"
             ],
             [
              0.3333333333333333,
              "#9c179e"
             ],
             [
              0.4444444444444444,
              "#bd3786"
             ],
             [
              0.5555555555555556,
              "#d8576b"
             ],
             [
              0.6666666666666666,
              "#ed7953"
             ],
             [
              0.7777777777777778,
              "#fb9f3a"
             ],
             [
              0.8888888888888888,
              "#fdca26"
             ],
             [
              1,
              "#f0f921"
             ]
            ],
            "type": "contour"
           }
          ],
          "contourcarpet": [
           {
            "colorbar": {
             "outlinewidth": 0,
             "ticks": ""
            },
            "type": "contourcarpet"
           }
          ],
          "heatmap": [
           {
            "colorbar": {
             "outlinewidth": 0,
             "ticks": ""
            },
            "colorscale": [
             [
              0,
              "#0d0887"
             ],
             [
              0.1111111111111111,
              "#46039f"
             ],
             [
              0.2222222222222222,
              "#7201a8"
             ],
             [
              0.3333333333333333,
              "#9c179e"
             ],
             [
              0.4444444444444444,
              "#bd3786"
             ],
             [
              0.5555555555555556,
              "#d8576b"
             ],
             [
              0.6666666666666666,
              "#ed7953"
             ],
             [
              0.7777777777777778,
              "#fb9f3a"
             ],
             [
              0.8888888888888888,
              "#fdca26"
             ],
             [
              1,
              "#f0f921"
             ]
            ],
            "type": "heatmap"
           }
          ],
          "heatmapgl": [
           {
            "colorbar": {
             "outlinewidth": 0,
             "ticks": ""
            },
            "colorscale": [
             [
              0,
              "#0d0887"
             ],
             [
              0.1111111111111111,
              "#46039f"
             ],
             [
              0.2222222222222222,
              "#7201a8"
             ],
             [
              0.3333333333333333,
              "#9c179e"
             ],
             [
              0.4444444444444444,
              "#bd3786"
             ],
             [
              0.5555555555555556,
              "#d8576b"
             ],
             [
              0.6666666666666666,
              "#ed7953"
             ],
             [
              0.7777777777777778,
              "#fb9f3a"
             ],
             [
              0.8888888888888888,
              "#fdca26"
             ],
             [
              1,
              "#f0f921"
             ]
            ],
            "type": "heatmapgl"
           }
          ],
          "histogram": [
           {
            "marker": {
             "pattern": {
              "fillmode": "overlay",
              "size": 10,
              "solidity": 0.2
             }
            },
            "type": "histogram"
           }
          ],
          "histogram2d": [
           {
            "colorbar": {
             "outlinewidth": 0,
             "ticks": ""
            },
            "colorscale": [
             [
              0,
              "#0d0887"
             ],
             [
              0.1111111111111111,
              "#46039f"
             ],
             [
              0.2222222222222222,
              "#7201a8"
             ],
             [
              0.3333333333333333,
              "#9c179e"
             ],
             [
              0.4444444444444444,
              "#bd3786"
             ],
             [
              0.5555555555555556,
              "#d8576b"
             ],
             [
              0.6666666666666666,
              "#ed7953"
             ],
             [
              0.7777777777777778,
              "#fb9f3a"
             ],
             [
              0.8888888888888888,
              "#fdca26"
             ],
             [
              1,
              "#f0f921"
             ]
            ],
            "type": "histogram2d"
           }
          ],
          "histogram2dcontour": [
           {
            "colorbar": {
             "outlinewidth": 0,
             "ticks": ""
            },
            "colorscale": [
             [
              0,
              "#0d0887"
             ],
             [
              0.1111111111111111,
              "#46039f"
             ],
             [
              0.2222222222222222,
              "#7201a8"
             ],
             [
              0.3333333333333333,
              "#9c179e"
             ],
             [
              0.4444444444444444,
              "#bd3786"
             ],
             [
              0.5555555555555556,
              "#d8576b"
             ],
             [
              0.6666666666666666,
              "#ed7953"
             ],
             [
              0.7777777777777778,
              "#fb9f3a"
             ],
             [
              0.8888888888888888,
              "#fdca26"
             ],
             [
              1,
              "#f0f921"
             ]
            ],
            "type": "histogram2dcontour"
           }
          ],
          "mesh3d": [
           {
            "colorbar": {
             "outlinewidth": 0,
             "ticks": ""
            },
            "type": "mesh3d"
           }
          ],
          "parcoords": [
           {
            "line": {
             "colorbar": {
              "outlinewidth": 0,
              "ticks": ""
             }
            },
            "type": "parcoords"
           }
          ],
          "pie": [
           {
            "automargin": true,
            "type": "pie"
           }
          ],
          "scatter": [
           {
            "marker": {
             "colorbar": {
              "outlinewidth": 0,
              "ticks": ""
             }
            },
            "type": "scatter"
           }
          ],
          "scatter3d": [
           {
            "line": {
             "colorbar": {
              "outlinewidth": 0,
              "ticks": ""
             }
            },
            "marker": {
             "colorbar": {
              "outlinewidth": 0,
              "ticks": ""
             }
            },
            "type": "scatter3d"
           }
          ],
          "scattercarpet": [
           {
            "marker": {
             "colorbar": {
              "outlinewidth": 0,
              "ticks": ""
             }
            },
            "type": "scattercarpet"
           }
          ],
          "scattergeo": [
           {
            "marker": {
             "colorbar": {
              "outlinewidth": 0,
              "ticks": ""
             }
            },
            "type": "scattergeo"
           }
          ],
          "scattergl": [
           {
            "marker": {
             "colorbar": {
              "outlinewidth": 0,
              "ticks": ""
             }
            },
            "type": "scattergl"
           }
          ],
          "scattermapbox": [
           {
            "marker": {
             "colorbar": {
              "outlinewidth": 0,
              "ticks": ""
             }
            },
            "type": "scattermapbox"
           }
          ],
          "scatterpolar": [
           {
            "marker": {
             "colorbar": {
              "outlinewidth": 0,
              "ticks": ""
             }
            },
            "type": "scatterpolar"
           }
          ],
          "scatterpolargl": [
           {
            "marker": {
             "colorbar": {
              "outlinewidth": 0,
              "ticks": ""
             }
            },
            "type": "scatterpolargl"
           }
          ],
          "scatterternary": [
           {
            "marker": {
             "colorbar": {
              "outlinewidth": 0,
              "ticks": ""
             }
            },
            "type": "scatterternary"
           }
          ],
          "surface": [
           {
            "colorbar": {
             "outlinewidth": 0,
             "ticks": ""
            },
            "colorscale": [
             [
              0,
              "#0d0887"
             ],
             [
              0.1111111111111111,
              "#46039f"
             ],
             [
              0.2222222222222222,
              "#7201a8"
             ],
             [
              0.3333333333333333,
              "#9c179e"
             ],
             [
              0.4444444444444444,
              "#bd3786"
             ],
             [
              0.5555555555555556,
              "#d8576b"
             ],
             [
              0.6666666666666666,
              "#ed7953"
             ],
             [
              0.7777777777777778,
              "#fb9f3a"
             ],
             [
              0.8888888888888888,
              "#fdca26"
             ],
             [
              1,
              "#f0f921"
             ]
            ],
            "type": "surface"
           }
          ],
          "table": [
           {
            "cells": {
             "fill": {
              "color": "#EBF0F8"
             },
             "line": {
              "color": "white"
             }
            },
            "header": {
             "fill": {
              "color": "#C8D4E3"
             },
             "line": {
              "color": "white"
             }
            },
            "type": "table"
           }
          ]
         },
         "layout": {
          "annotationdefaults": {
           "arrowcolor": "#2a3f5f",
           "arrowhead": 0,
           "arrowwidth": 1
          },
          "autotypenumbers": "strict",
          "coloraxis": {
           "colorbar": {
            "outlinewidth": 0,
            "ticks": ""
           }
          },
          "colorscale": {
           "diverging": [
            [
             0,
             "#8e0152"
            ],
            [
             0.1,
             "#c51b7d"
            ],
            [
             0.2,
             "#de77ae"
            ],
            [
             0.3,
             "#f1b6da"
            ],
            [
             0.4,
             "#fde0ef"
            ],
            [
             0.5,
             "#f7f7f7"
            ],
            [
             0.6,
             "#e6f5d0"
            ],
            [
             0.7,
             "#b8e186"
            ],
            [
             0.8,
             "#7fbc41"
            ],
            [
             0.9,
             "#4d9221"
            ],
            [
             1,
             "#276419"
            ]
           ],
           "sequential": [
            [
             0,
             "#0d0887"
            ],
            [
             0.1111111111111111,
             "#46039f"
            ],
            [
             0.2222222222222222,
             "#7201a8"
            ],
            [
             0.3333333333333333,
             "#9c179e"
            ],
            [
             0.4444444444444444,
             "#bd3786"
            ],
            [
             0.5555555555555556,
             "#d8576b"
            ],
            [
             0.6666666666666666,
             "#ed7953"
            ],
            [
             0.7777777777777778,
             "#fb9f3a"
            ],
            [
             0.8888888888888888,
             "#fdca26"
            ],
            [
             1,
             "#f0f921"
            ]
           ],
           "sequentialminus": [
            [
             0,
             "#0d0887"
            ],
            [
             0.1111111111111111,
             "#46039f"
            ],
            [
             0.2222222222222222,
             "#7201a8"
            ],
            [
             0.3333333333333333,
             "#9c179e"
            ],
            [
             0.4444444444444444,
             "#bd3786"
            ],
            [
             0.5555555555555556,
             "#d8576b"
            ],
            [
             0.6666666666666666,
             "#ed7953"
            ],
            [
             0.7777777777777778,
             "#fb9f3a"
            ],
            [
             0.8888888888888888,
             "#fdca26"
            ],
            [
             1,
             "#f0f921"
            ]
           ]
          },
          "colorway": [
           "#636efa",
           "#EF553B",
           "#00cc96",
           "#ab63fa",
           "#FFA15A",
           "#19d3f3",
           "#FF6692",
           "#B6E880",
           "#FF97FF",
           "#FECB52"
          ],
          "font": {
           "color": "#2a3f5f"
          },
          "geo": {
           "bgcolor": "white",
           "lakecolor": "white",
           "landcolor": "#E5ECF6",
           "showlakes": true,
           "showland": true,
           "subunitcolor": "white"
          },
          "hoverlabel": {
           "align": "left"
          },
          "hovermode": "closest",
          "mapbox": {
           "style": "light"
          },
          "paper_bgcolor": "white",
          "plot_bgcolor": "#E5ECF6",
          "polar": {
           "angularaxis": {
            "gridcolor": "white",
            "linecolor": "white",
            "ticks": ""
           },
           "bgcolor": "#E5ECF6",
           "radialaxis": {
            "gridcolor": "white",
            "linecolor": "white",
            "ticks": ""
           }
          },
          "scene": {
           "xaxis": {
            "backgroundcolor": "#E5ECF6",
            "gridcolor": "white",
            "gridwidth": 2,
            "linecolor": "white",
            "showbackground": true,
            "ticks": "",
            "zerolinecolor": "white"
           },
           "yaxis": {
            "backgroundcolor": "#E5ECF6",
            "gridcolor": "white",
            "gridwidth": 2,
            "linecolor": "white",
            "showbackground": true,
            "ticks": "",
            "zerolinecolor": "white"
           },
           "zaxis": {
            "backgroundcolor": "#E5ECF6",
            "gridcolor": "white",
            "gridwidth": 2,
            "linecolor": "white",
            "showbackground": true,
            "ticks": "",
            "zerolinecolor": "white"
           }
          },
          "shapedefaults": {
           "line": {
            "color": "#2a3f5f"
           }
          },
          "ternary": {
           "aaxis": {
            "gridcolor": "white",
            "linecolor": "white",
            "ticks": ""
           },
           "baxis": {
            "gridcolor": "white",
            "linecolor": "white",
            "ticks": ""
           },
           "bgcolor": "#E5ECF6",
           "caxis": {
            "gridcolor": "white",
            "linecolor": "white",
            "ticks": ""
           }
          },
          "title": {
           "x": 0.05
          },
          "xaxis": {
           "automargin": true,
           "gridcolor": "white",
           "linecolor": "white",
           "ticks": "",
           "title": {
            "standoff": 15
           },
           "zerolinecolor": "white",
           "zerolinewidth": 2
          },
          "yaxis": {
           "automargin": true,
           "gridcolor": "white",
           "linecolor": "white",
           "ticks": "",
           "title": {
            "standoff": 15
           },
           "zerolinecolor": "white",
           "zerolinewidth": 2
          }
         }
        },
        "title": {
         "text": "G-protein coupled receptor 183, averaging window size: 5"
        },
        "xaxis": {
         "title": {
          "text": "amino acid position"
         }
        },
        "yaxis": {
         "title": {
          "text": "hydropathy index (Kyte-Doolittle method)"
         }
        }
       }
      }
     },
     "metadata": {},
     "output_type": "display_data"
    },
    {
     "data": {
      "application/vnd.plotly.v1+json": {
       "config": {
        "plotlyServerURL": "https://plot.ly"
       },
       "data": [
        {
         "hovertext": [
          "Name:Methionine<br />abbr.:Met, M",
          "Name:Aspartic acid<br />abbr.:Asp, D",
          "Name:Isoleucine<br />abbr.:Ile, I",
          "Name:Glutamine<br />abbr.:Gln, Q",
          "Name:Methionine<br />abbr.:Met, M",
          "Name:Alanine<br />abbr.:Ala, A",
          "Name:Asparagine<br />abbr.:Asn, N",
          "Name:Asparagine<br />abbr.:Asn, N",
          "Name:Phenylalanine<br />abbr.:Phe, F",
          "Name:Threonine<br />abbr.:Thr, T",
          "Name:Proline<br />abbr.:Pro, P",
          "Name:Proline<br />abbr.:Pro, P",
          "Name:Serine<br />abbr.:Ser, S",
          "Name:Alanine<br />abbr.:Ala, A",
          "Name:Threonine<br />abbr.:Thr, T",
          "Name:Proline<br />abbr.:Pro, P",
          "Name:Glutamine<br />abbr.:Gln, Q",
          "Name:Glycine<br />abbr.:Gly, G",
          "Name:Asparagine<br />abbr.:Asn, N",
          "Name:Aspartic acid<br />abbr.:Asp, D",
          "Name:Cysteine<br />abbr.:Cys, C",
          "Name:Aspartic acid<br />abbr.:Asp, D",
          "Name:Leucine<br />abbr.:Leu, L",
          "Name:Tyrosine<br />abbr.:Tyr, Y",
          "Name:Alanine<br />abbr.:Ala, A",
          "Name:Histidine<br />abbr.:His, H",
          "Name:Histidine<br />abbr.:His, H",
          "Name:Serine<br />abbr.:Ser, S",
          "Name:Threonine<br />abbr.:Thr, T",
          "Name:Alanine<br />abbr.:Ala, A",
          "Name:Arginine<br />abbr.:Arg, R",
          "Name:Isoleucine<br />abbr.:Ile, I",
          "Name:Valine<br />abbr.:Val, V",
          "Name:Methionine<br />abbr.:Met, M",
          "Name:Proline<br />abbr.:Pro, P",
          "Name:Leucine<br />abbr.:Leu, L",
          "Name:Histidine<br />abbr.:His, H",
          "Name:Tyrosine<br />abbr.:Tyr, Y",
          "Name:Serine<br />abbr.:Ser, S",
          "Name:Leucine<br />abbr.:Leu, L",
          "Name:Valine<br />abbr.:Val, V",
          "Name:Phenylalanine<br />abbr.:Phe, F",
          "Name:Isoleucine<br />abbr.:Ile, I",
          "Name:Isoleucine<br />abbr.:Ile, I",
          "Name:Glycine<br />abbr.:Gly, G",
          "Name:Leucine<br />abbr.:Leu, L",
          "Name:Valine<br />abbr.:Val, V",
          "Name:Glycine<br />abbr.:Gly, G",
          "Name:Asparagine<br />abbr.:Asn, N",
          "Name:Leucine<br />abbr.:Leu, L",
          "Name:Leucine<br />abbr.:Leu, L",
          "Name:Alanine<br />abbr.:Ala, A",
          "Name:Leucine<br />abbr.:Leu, L",
          "Name:Valine<br />abbr.:Val, V",
          "Name:Valine<br />abbr.:Val, V",
          "Name:Isoleucine<br />abbr.:Ile, I",
          "Name:Valine<br />abbr.:Val, V",
          "Name:Glutamine<br />abbr.:Gln, Q",
          "Name:Asparagine<br />abbr.:Asn, N",
          "Name:Arginine<br />abbr.:Arg, R",
          "Name:Lysine<br />abbr.:Lys, K",
          "Name:Lysine<br />abbr.:Lys, K",
          "Name:Isoleucine<br />abbr.:Ile, I",
          "Name:Asparagine<br />abbr.:Asn, N",
          "Name:Serine<br />abbr.:Ser, S",
          "Name:Threonine<br />abbr.:Thr, T",
          "Name:Threonine<br />abbr.:Thr, T",
          "Name:Leucine<br />abbr.:Leu, L",
          "Name:Tyrosine<br />abbr.:Tyr, Y",
          "Name:Serine<br />abbr.:Ser, S",
          "Name:Threonine<br />abbr.:Thr, T",
          "Name:Asparagine<br />abbr.:Asn, N",
          "Name:Leucine<br />abbr.:Leu, L",
          "Name:Valine<br />abbr.:Val, V",
          "Name:Isoleucine<br />abbr.:Ile, I",
          "Name:Serine<br />abbr.:Ser, S",
          "Name:Aspartic acid<br />abbr.:Asp, D",
          "Name:Isoleucine<br />abbr.:Ile, I",
          "Name:Leucine<br />abbr.:Leu, L",
          "Name:Phenylalanine<br />abbr.:Phe, F",
          "Name:Threonine<br />abbr.:Thr, T",
          "Name:Threonine<br />abbr.:Thr, T",
          "Name:Alanine<br />abbr.:Ala, A",
          "Name:Leucine<br />abbr.:Leu, L",
          "Name:Proline<br />abbr.:Pro, P",
          "Name:Threonine<br />abbr.:Thr, T",
          "Name:Arginine<br />abbr.:Arg, R",
          "Name:Isoleucine<br />abbr.:Ile, I",
          "Name:Alanine<br />abbr.:Ala, A",
          "Name:Tyrosine<br />abbr.:Tyr, Y",
          "Name:Tyrosine<br />abbr.:Tyr, Y",
          "Name:Alanine<br />abbr.:Ala, A",
          "Name:Methionine<br />abbr.:Met, M",
          "Name:Glycine<br />abbr.:Gly, G",
          "Name:Phenylalanine<br />abbr.:Phe, F",
          "Name:Aspartic acid<br />abbr.:Asp, D",
          "Name:Tryptophan<br />abbr.:Trp, W",
          "Name:Arginine<br />abbr.:Arg, R",
          "Name:Isoleucine<br />abbr.:Ile, I",
          "Name:Glycine<br />abbr.:Gly, G",
          "Name:Aspartic acid<br />abbr.:Asp, D",
          "Name:Alanine<br />abbr.:Ala, A",
          "Name:Leucine<br />abbr.:Leu, L",
          "Name:Cysteine<br />abbr.:Cys, C",
          "Name:Arginine<br />abbr.:Arg, R",
          "Name:Isoleucine<br />abbr.:Ile, I",
          "Name:Threonine<br />abbr.:Thr, T",
          "Name:Alanine<br />abbr.:Ala, A",
          "Name:Leucine<br />abbr.:Leu, L",
          "Name:Valine<br />abbr.:Val, V",
          "Name:Phenylalanine<br />abbr.:Phe, F",
          "Name:Tyrosine<br />abbr.:Tyr, Y",
          "Name:Isoleucine<br />abbr.:Ile, I",
          "Name:Asparagine<br />abbr.:Asn, N",
          "Name:Threonine<br />abbr.:Thr, T",
          "Name:Tyrosine<br />abbr.:Tyr, Y",
          "Name:Alanine<br />abbr.:Ala, A",
          "Name:Glycine<br />abbr.:Gly, G",
          "Name:Valine<br />abbr.:Val, V",
          "Name:Asparagine<br />abbr.:Asn, N",
          "Name:Phenylalanine<br />abbr.:Phe, F",
          "Name:Methionine<br />abbr.:Met, M",
          "Name:Threonine<br />abbr.:Thr, T",
          "Name:Cysteine<br />abbr.:Cys, C",
          "Name:Leucine<br />abbr.:Leu, L",
          "Name:Serine<br />abbr.:Ser, S",
          "Name:Isoleucine<br />abbr.:Ile, I",
          "Name:Aspartic acid<br />abbr.:Asp, D",
          "Name:Arginine<br />abbr.:Arg, R",
          "Name:Phenylalanine<br />abbr.:Phe, F",
          "Name:Isoleucine<br />abbr.:Ile, I",
          "Name:Alanine<br />abbr.:Ala, A",
          "Name:Valine<br />abbr.:Val, V",
          "Name:Valine<br />abbr.:Val, V",
          "Name:Histidine<br />abbr.:His, H",
          "Name:Proline<br />abbr.:Pro, P",
          "Name:Leucine<br />abbr.:Leu, L",
          "Name:Arginine<br />abbr.:Arg, R",
          "Name:Tyrosine<br />abbr.:Tyr, Y",
          "Name:Asparagine<br />abbr.:Asn, N",
          "Name:Lysine<br />abbr.:Lys, K",
          "Name:Isoleucine<br />abbr.:Ile, I",
          "Name:Lysine<br />abbr.:Lys, K",
          "Name:Arginine<br />abbr.:Arg, R",
          "Name:Isoleucine<br />abbr.:Ile, I",
          "Name:Glutamic acid<br />abbr.:Glu, E",
          "Name:Histidine<br />abbr.:His, H",
          "Name:Alanine<br />abbr.:Ala, A",
          "Name:Lysine<br />abbr.:Lys, K",
          "Name:Glycine<br />abbr.:Gly, G",
          "Name:Valine<br />abbr.:Val, V",
          "Name:Cysteine<br />abbr.:Cys, C",
          "Name:Isoleucine<br />abbr.:Ile, I",
          "Name:Phenylalanine<br />abbr.:Phe, F",
          "Name:Valine<br />abbr.:Val, V",
          "Name:Tryptophan<br />abbr.:Trp, W",
          "Name:Isoleucine<br />abbr.:Ile, I",
          "Name:Leucine<br />abbr.:Leu, L",
          "Name:Valine<br />abbr.:Val, V",
          "Name:Phenylalanine<br />abbr.:Phe, F",
          "Name:Alanine<br />abbr.:Ala, A",
          "Name:Glutamine<br />abbr.:Gln, Q",
          "Name:Threonine<br />abbr.:Thr, T",
          "Name:Leucine<br />abbr.:Leu, L",
          "Name:Proline<br />abbr.:Pro, P",
          "Name:Leucine<br />abbr.:Leu, L",
          "Name:Leucine<br />abbr.:Leu, L",
          "Name:Isoleucine<br />abbr.:Ile, I",
          "Name:Asparagine<br />abbr.:Asn, N",
          "Name:Proline<br />abbr.:Pro, P",
          "Name:Methionine<br />abbr.:Met, M",
          "Name:Serine<br />abbr.:Ser, S",
          "Name:Lysine<br />abbr.:Lys, K",
          "Name:Glutamine<br />abbr.:Gln, Q",
          "Name:Glutamic acid<br />abbr.:Glu, E",
          "Name:Alanine<br />abbr.:Ala, A",
          "Name:Glutamic acid<br />abbr.:Glu, E",
          "Name:Arginine<br />abbr.:Arg, R",
          "Name:Isoleucine<br />abbr.:Ile, I",
          "Name:Threonine<br />abbr.:Thr, T",
          "Name:Cysteine<br />abbr.:Cys, C",
          "Name:Methionine<br />abbr.:Met, M",
          "Name:Glutamic acid<br />abbr.:Glu, E",
          "Name:Tyrosine<br />abbr.:Tyr, Y",
          "Name:Proline<br />abbr.:Pro, P",
          "Name:Asparagine<br />abbr.:Asn, N",
          "Name:Phenylalanine<br />abbr.:Phe, F",
          "Name:Glutamic acid<br />abbr.:Glu, E",
          "Name:Glutamic acid<br />abbr.:Glu, E",
          "Name:Threonine<br />abbr.:Thr, T",
          "Name:Lysine<br />abbr.:Lys, K",
          "Name:Serine<br />abbr.:Ser, S",
          "Name:Leucine<br />abbr.:Leu, L",
          "Name:Proline<br />abbr.:Pro, P",
          "Name:Tryptophan<br />abbr.:Trp, W",
          "Name:Isoleucine<br />abbr.:Ile, I",
          "Name:Leucine<br />abbr.:Leu, L",
          "Name:Leucine<br />abbr.:Leu, L",
          "Name:Glycine<br />abbr.:Gly, G",
          "Name:Alanine<br />abbr.:Ala, A",
          "Name:Cysteine<br />abbr.:Cys, C",
          "Name:Phenylalanine<br />abbr.:Phe, F",
          "Name:Isoleucine<br />abbr.:Ile, I",
          "Name:Glycine<br />abbr.:Gly, G",
          "Name:Tyrosine<br />abbr.:Tyr, Y",
          "Name:Valine<br />abbr.:Val, V",
          "Name:Leucine<br />abbr.:Leu, L",
          "Name:Proline<br />abbr.:Pro, P",
          "Name:Leucine<br />abbr.:Leu, L",
          "Name:Isoleucine<br />abbr.:Ile, I",
          "Name:Isoleucine<br />abbr.:Ile, I",
          "Name:Isoleucine<br />abbr.:Ile, I",
          "Name:Leucine<br />abbr.:Leu, L",
          "Name:Isoleucine<br />abbr.:Ile, I",
          "Name:Cysteine<br />abbr.:Cys, C",
          "Name:Tyrosine<br />abbr.:Tyr, Y",
          "Name:Serine<br />abbr.:Ser, S",
          "Name:Glutamine<br />abbr.:Gln, Q",
          "Name:Isoleucine<br />abbr.:Ile, I",
          "Name:Cysteine<br />abbr.:Cys, C",
          "Name:Cysteine<br />abbr.:Cys, C",
          "Name:Lysine<br />abbr.:Lys, K",
          "Name:Leucine<br />abbr.:Leu, L",
          "Name:Phenylalanine<br />abbr.:Phe, F",
          "Name:Arginine<br />abbr.:Arg, R",
          "Name:Threonine<br />abbr.:Thr, T",
          "Name:Alanine<br />abbr.:Ala, A",
          "Name:Lysine<br />abbr.:Lys, K",
          "Name:Glutamine<br />abbr.:Gln, Q",
          "Name:Asparagine<br />abbr.:Asn, N",
          "Name:Proline<br />abbr.:Pro, P",
          "Name:Leucine<br />abbr.:Leu, L",
          "Name:Threonine<br />abbr.:Thr, T",
          "Name:Glutamic acid<br />abbr.:Glu, E",
          "Name:Lysine<br />abbr.:Lys, K",
          "Name:Serine<br />abbr.:Ser, S",
          "Name:Glycine<br />abbr.:Gly, G",
          "Name:Valine<br />abbr.:Val, V",
          "Name:Asparagine<br />abbr.:Asn, N",
          "Name:Lysine<br />abbr.:Lys, K",
          "Name:Lysine<br />abbr.:Lys, K",
          "Name:Alanine<br />abbr.:Ala, A",
          "Name:Leucine<br />abbr.:Leu, L",
          "Name:Asparagine<br />abbr.:Asn, N",
          "Name:Threonine<br />abbr.:Thr, T",
          "Name:Isoleucine<br />abbr.:Ile, I",
          "Name:Isoleucine<br />abbr.:Ile, I",
          "Name:Leucine<br />abbr.:Leu, L",
          "Name:Isoleucine<br />abbr.:Ile, I",
          "Name:Isoleucine<br />abbr.:Ile, I",
          "Name:Valine<br />abbr.:Val, V",
          "Name:Valine<br />abbr.:Val, V",
          "Name:Phenylalanine<br />abbr.:Phe, F",
          "Name:Valine<br />abbr.:Val, V",
          "Name:Leucine<br />abbr.:Leu, L",
          "Name:Cysteine<br />abbr.:Cys, C",
          "Name:Phenylalanine<br />abbr.:Phe, F",
          "Name:Threonine<br />abbr.:Thr, T",
          "Name:Proline<br />abbr.:Pro, P",
          "Name:Tyrosine<br />abbr.:Tyr, Y",
          "Name:Histidine<br />abbr.:His, H",
          "Name:Valine<br />abbr.:Val, V",
          "Name:Alanine<br />abbr.:Ala, A",
          "Name:Isoleucine<br />abbr.:Ile, I",
          "Name:Isoleucine<br />abbr.:Ile, I",
          "Name:Glutamine<br />abbr.:Gln, Q",
          "Name:Histidine<br />abbr.:His, H",
          "Name:Methionine<br />abbr.:Met, M",
          "Name:Isoleucine<br />abbr.:Ile, I",
          "Name:Lysine<br />abbr.:Lys, K",
          "Name:Lysine<br />abbr.:Lys, K",
          "Name:Leucine<br />abbr.:Leu, L",
          "Name:Arginine<br />abbr.:Arg, R",
          "Name:Phenylalanine<br />abbr.:Phe, F",
          "Name:Serine<br />abbr.:Ser, S",
          "Name:Asparagine<br />abbr.:Asn, N",
          "Name:Phenylalanine<br />abbr.:Phe, F",
          "Name:Leucine<br />abbr.:Leu, L",
          "Name:Glutamic acid<br />abbr.:Glu, E",
          "Name:Cysteine<br />abbr.:Cys, C",
          "Name:Serine<br />abbr.:Ser, S",
          "Name:Glutamine<br />abbr.:Gln, Q",
          "Name:Arginine<br />abbr.:Arg, R",
          "Name:Histidine<br />abbr.:His, H",
          "Name:Serine<br />abbr.:Ser, S",
          "Name:Phenylalanine<br />abbr.:Phe, F",
          "Name:Glutamine<br />abbr.:Gln, Q",
          "Name:Isoleucine<br />abbr.:Ile, I",
          "Name:Serine<br />abbr.:Ser, S",
          "Name:Leucine<br />abbr.:Leu, L",
          "Name:Histidine<br />abbr.:His, H",
          "Name:Phenylalanine<br />abbr.:Phe, F",
          "Name:Threonine<br />abbr.:Thr, T",
          "Name:Valine<br />abbr.:Val, V",
          "Name:Cysteine<br />abbr.:Cys, C",
          "Name:Leucine<br />abbr.:Leu, L",
          "Name:Methionine<br />abbr.:Met, M",
          "Name:Asparagine<br />abbr.:Asn, N",
          "Name:Phenylalanine<br />abbr.:Phe, F",
          "Name:Asparagine<br />abbr.:Asn, N",
          "Name:Cysteine<br />abbr.:Cys, C",
          "Name:Cysteine<br />abbr.:Cys, C",
          "Name:Methionine<br />abbr.:Met, M",
          "Name:Aspartic acid<br />abbr.:Asp, D",
          "Name:Proline<br />abbr.:Pro, P",
          "Name:Phenylalanine<br />abbr.:Phe, F",
          "Name:Isoleucine<br />abbr.:Ile, I",
          "Name:Tyrosine<br />abbr.:Tyr, Y",
          "Name:Phenylalanine<br />abbr.:Phe, F",
          "Name:Phenylalanine<br />abbr.:Phe, F",
          "Name:Alanine<br />abbr.:Ala, A",
          "Name:Cysteine<br />abbr.:Cys, C",
          "Name:Lysine<br />abbr.:Lys, K",
          "Name:Glycine<br />abbr.:Gly, G",
          "Name:Tyrosine<br />abbr.:Tyr, Y",
          "Name:Lysine<br />abbr.:Lys, K",
          "Name:Arginine<br />abbr.:Arg, R",
          "Name:Lysine<br />abbr.:Lys, K",
          "Name:Valine<br />abbr.:Val, V",
          "Name:Methionine<br />abbr.:Met, M",
          "Name:Arginine<br />abbr.:Arg, R",
          "Name:Methionine<br />abbr.:Met, M",
          "Name:Leucine<br />abbr.:Leu, L",
          "Name:Lysine<br />abbr.:Lys, K",
          "Name:Arginine<br />abbr.:Arg, R",
          "Name:Glutamine<br />abbr.:Gln, Q",
          "Name:Valine<br />abbr.:Val, V",
          "Name:Serine<br />abbr.:Ser, S",
          "Name:Valine<br />abbr.:Val, V",
          "Name:Serine<br />abbr.:Ser, S",
          "Name:Isoleucine<br />abbr.:Ile, I",
          "Name:Serine<br />abbr.:Ser, S",
          "Name:Serine<br />abbr.:Ser, S",
          "Name:Alanine<br />abbr.:Ala, A",
          "Name:Valine<br />abbr.:Val, V",
          "Name:Lysine<br />abbr.:Lys, K",
          "Name:Serine<br />abbr.:Ser, S",
          "Name:Alanine<br />abbr.:Ala, A",
          "Name:Proline<br />abbr.:Pro, P",
          "Name:Glutamic acid<br />abbr.:Glu, E",
          "Name:Glutamic acid<br />abbr.:Glu, E",
          "Name:Asparagine<br />abbr.:Asn, N",
          "Name:Serine<br />abbr.:Ser, S",
          "Name:Arginine<br />abbr.:Arg, R",
          "Name:Glutamic acid<br />abbr.:Glu, E",
          "Name:Methionine<br />abbr.:Met, M",
          "Name:Threonine<br />abbr.:Thr, T",
          "Name:Glutamic acid<br />abbr.:Glu, E",
          "Name:Threonine<br />abbr.:Thr, T",
          "Name:Glutamine<br />abbr.:Gln, Q",
          "Name:Methionine<br />abbr.:Met, M",
          "Name:Methionine<br />abbr.:Met, M",
          "Name:Isoleucine<br />abbr.:Ile, I",
          "Name:Histidine<br />abbr.:His, H",
          "Name:Serine<br />abbr.:Ser, S",
          "Name:Lysine<br />abbr.:Lys, K",
          "Name:Serine<br />abbr.:Ser, S",
          "Name:Serine<br />abbr.:Ser, S",
          "Name:Asparagine<br />abbr.:Asn, N",
          "Name:Glycine<br />abbr.:Gly, G",
          "Name:Lysine<br />abbr.:Lys, K"
         ],
         "type": "scatter",
         "x": [
          0,
          1,
          2,
          3,
          4,
          5,
          6,
          7,
          8,
          9,
          10,
          11,
          12,
          13,
          14,
          15,
          16,
          17,
          18,
          19,
          20,
          21,
          22,
          23,
          24,
          25,
          26,
          27,
          28,
          29,
          30,
          31,
          32,
          33,
          34,
          35,
          36,
          37,
          38,
          39,
          40,
          41,
          42,
          43,
          44,
          45,
          46,
          47,
          48,
          49,
          50,
          51,
          52,
          53,
          54,
          55,
          56,
          57,
          58,
          59,
          60,
          61,
          62,
          63,
          64,
          65,
          66,
          67,
          68,
          69,
          70,
          71,
          72,
          73,
          74,
          75,
          76,
          77,
          78,
          79,
          80,
          81,
          82,
          83,
          84,
          85,
          86,
          87,
          88,
          89,
          90,
          91,
          92,
          93,
          94,
          95,
          96,
          97,
          98,
          99,
          100,
          101,
          102,
          103,
          104,
          105,
          106,
          107,
          108,
          109,
          110,
          111,
          112,
          113,
          114,
          115,
          116,
          117,
          118,
          119,
          120,
          121,
          122,
          123,
          124,
          125,
          126,
          127,
          128,
          129,
          130,
          131,
          132,
          133,
          134,
          135,
          136,
          137,
          138,
          139,
          140,
          141,
          142,
          143,
          144,
          145,
          146,
          147,
          148,
          149,
          150,
          151,
          152,
          153,
          154,
          155,
          156,
          157,
          158,
          159,
          160,
          161,
          162,
          163,
          164,
          165,
          166,
          167,
          168,
          169,
          170,
          171,
          172,
          173,
          174,
          175,
          176,
          177,
          178,
          179,
          180,
          181,
          182,
          183,
          184,
          185,
          186,
          187,
          188,
          189,
          190,
          191,
          192,
          193,
          194,
          195,
          196,
          197,
          198,
          199,
          200,
          201,
          202,
          203,
          204,
          205,
          206,
          207,
          208,
          209,
          210,
          211,
          212,
          213,
          214,
          215,
          216,
          217,
          218,
          219,
          220,
          221,
          222,
          223,
          224,
          225,
          226,
          227,
          228,
          229,
          230,
          231,
          232,
          233,
          234,
          235,
          236,
          237,
          238,
          239,
          240,
          241,
          242,
          243,
          244,
          245,
          246,
          247,
          248,
          249,
          250,
          251,
          252,
          253,
          254,
          255,
          256,
          257,
          258,
          259,
          260,
          261,
          262,
          263,
          264,
          265,
          266,
          267,
          268,
          269,
          270,
          271,
          272,
          273,
          274,
          275,
          276,
          277,
          278,
          279,
          280,
          281,
          282,
          283,
          284,
          285,
          286,
          287,
          288,
          289,
          290,
          291,
          292,
          293,
          294,
          295,
          296,
          297,
          298,
          299,
          300,
          301,
          302,
          303,
          304,
          305,
          306,
          307,
          308,
          309,
          310,
          311,
          312,
          313,
          314,
          315,
          316,
          317,
          318,
          319,
          320,
          321,
          322,
          323,
          324,
          325,
          326,
          327,
          328,
          329,
          330,
          331,
          332,
          333,
          334,
          335,
          336,
          337,
          338,
          339,
          340,
          341,
          342,
          343,
          344,
          345,
          346,
          347,
          348,
          349,
          350,
          351,
          352,
          353,
          354,
          355,
          356,
          357,
          358,
          359,
          360
         ],
         "y": [
          1.9,
          -0.8,
          0.9666666666666667,
          -0.15000000000000002,
          0.25999999999999995,
          0.5166666666666666,
          -0.0571428571428572,
          -0.48750000000000004,
          -0.12222222222222229,
          -0.18000000000000005,
          -0.53,
          -0.34,
          -0.8700000000000001,
          -0.34,
          -0.6000000000000001,
          -0.9400000000000001,
          -0.9400000000000001,
          -0.6300000000000001,
          -1.2600000000000002,
          -1.54,
          -1.1300000000000001,
          -1.3199999999999998,
          -0.8600000000000001,
          -1.17,
          -0.9199999999999999,
          -1.0800000000000003,
          -1.05,
          -1.0900000000000003,
          -0.8099999999999999,
          -0.2800000000000001,
          -0.9800000000000001,
          -0.18000000000000008,
          -0.14000000000000012,
          0.17999999999999994,
          -0.16000000000000014,
          0.5399999999999999,
          0.5400000000000001,
          0.4900000000000002,
          0.48000000000000015,
          0.68,
          1.55,
          1.3800000000000001,
          1.4099999999999997,
          1.67,
          1.7900000000000003,
          1.7899999999999998,
          2.5300000000000002,
          2.62,
          2.3500000000000005,
          2.35,
          2.31,
          2.21,
          2.14,
          2.11,
          2.57,
          2.6399999999999997,
          2.6399999999999997,
          2.3299999999999996,
          2.3299999999999996,
          1.4999999999999996,
          0.7299999999999999,
          0.15999999999999984,
          0.23000000000000015,
          -0.5400000000000001,
          -1.0400000000000003,
          -1.56,
          -2.05,
          -1.3199999999999998,
          -1.1,
          -0.7299999999999998,
          -0.41000000000000003,
          -0.37,
          -0.43999999999999995,
          0.32999999999999996,
          0.86,
          0.85,
          0.57,
          0.64,
          1.15,
          1.5100000000000002,
          1.5100000000000002,
          1.7900000000000003,
          1.5900000000000003,
          1.5500000000000003,
          0.9400000000000001,
          0.95,
          0.8500000000000005,
          0.85,
          0.65,
          0.24000000000000005,
          0.18000000000000005,
          0.43,
          0.44000000000000006,
          0.020000000000000028,
          0.45999999999999996,
          0.18,
          0.54,
          -0.36,
          -0.09000000000000004,
          -5.551115123125783e-17,
          -0.22000000000000003,
          -0.2200000000000001,
          -0.030000000000000072,
          0.25999999999999995,
          -0.4700000000000001,
          0.3299999999999999,
          0.35,
          0.9799999999999999,
          0.9099999999999999,
          1.3699999999999999,
          2,
          1.69,
          1.7600000000000002,
          1.1600000000000001,
          1.5399999999999998,
          0.9600000000000002,
          1.2100000000000002,
          0.99,
          1.0299999999999998,
          0.25999999999999995,
          0.26,
          0.5800000000000001,
          0.05999999999999994,
          0.6599999999999999,
          1.1099999999999999,
          1.1599999999999997,
          1.43,
          1.1199999999999999,
          0.25,
          0.8799999999999997,
          1.05,
          1.0400000000000003,
          1.53,
          1.7,
          1,
          0.9200000000000002,
          0.85,
          0.75,
          1.0699999999999998,
          0.43999999999999995,
          -0.4,
          -0.12999999999999998,
          -0.9400000000000001,
          -1.81,
          -1.04,
          -1.23,
          -1.9300000000000002,
          -1.3,
          -1.56,
          -1.25,
          -0.43999999999999995,
          -0.6400000000000002,
          0.1999999999999999,
          0.93,
          0.9,
          1.16,
          1.9299999999999997,
          2.13,
          2.9400000000000004,
          3.2600000000000002,
          3.0200000000000005,
          2.42,
          1.9,
          2.0000000000000004,
          1.4200000000000004,
          1.8900000000000001,
          1.8200000000000003,
          1.8900000000000001,
          1.1199999999999999,
          0.6799999999999999,
          0.6900000000000001,
          0.9599999999999997,
          0.64,
          -0.0899999999999999,
          -0.2800000000000001,
          -0.48,
          -1.21,
          -2.1100000000000003,
          -1.31,
          -1.22,
          -1.1599999999999997,
          -0.89,
          -0.8499999999999999,
          -0.63,
          -0.44000000000000006,
          -0.9700000000000001,
          -0.34,
          -0.24000000000000007,
          -1.04,
          -1.0399999999999998,
          -1.6799999999999997,
          -1.95,
          -1.22,
          -1.2500000000000002,
          -1.1800000000000002,
          -0.3800000000000002,
          -0.28000000000000014,
          0.44999999999999984,
          0.76,
          1.01,
          1.65,
          2.01,
          2.08,
          2.2,
          2.16,
          2.13,
          2.13,
          1.59,
          2.01,
          2.2800000000000002,
          2.48,
          2.65,
          2.58,
          3.07,
          3.45,
          2.9,
          2.44,
          2.25,
          2.32,
          2.12,
          1.92,
          1.0799999999999998,
          1.08,
          0.9100000000000001,
          0.20999999999999996,
          0.2699999999999999,
          0.5299999999999999,
          0.4899999999999999,
          -0.31,
          -0.9100000000000001,
          -1.3199999999999998,
          -0.55,
          -1,
          -1.6300000000000001,
          -1.57,
          -1.58,
          -1.7999999999999996,
          -0.9900000000000002,
          -0.9900000000000002,
          -1.03,
          -1.2600000000000002,
          -1.4600000000000002,
          -1.0100000000000002,
          -1.0100000000000002,
          -0.6900000000000002,
          -0.16000000000000006,
          0.32999999999999996,
          0.29000000000000015,
          1.0899999999999999,
          1.9300000000000002,
          2.7399999999999998,
          2.9799999999999995,
          2.88,
          3.65,
          4.1,
          3.9,
          3.7299999999999995,
          3.28,
          2.67,
          2.09,
          1.35,
          1.35,
          1.2500000000000002,
          1.28,
          1.35,
          0.75,
          0.1499999999999999,
          0.4099999999999998,
          1.02,
          0.76,
          0.6900000000000001,
          0.65,
          0.019999999999999928,
          -0.15000000000000008,
          -0.68,
          -0.6799999999999999,
          -0.07999999999999999,
          0.10999999999999996,
          -0.6900000000000001,
          -0.05,
          0.25999999999999995,
          -0.47000000000000003,
          -0.47000000000000003,
          -1.0699999999999998,
          -1.07,
          -0.44000000000000006,
          -1.0699999999999998,
          -1,
          -0.73,
          -0.6000000000000001,
          -0.8400000000000001,
          -0.20999999999999996,
          0.16999999999999996,
          0.9099999999999999,
          1.2399999999999998,
          1.3399999999999999,
          1.8799999999999997,
          1.0799999999999998,
          1.44,
          0.7099999999999997,
          1.28,
          1.25,
          1.51,
          0.74,
          0.32999999999999985,
          0.22999999999999993,
          0.48999999999999994,
          0.7099999999999999,
          0.71,
          1.3399999999999999,
          1.27,
          1.27,
          0.6900000000000001,
          1,
          1.03,
          0.3600000000000001,
          -0.54,
          -0.8000000000000002,
          -0.66,
          -0.7499999999999998,
          -1.38,
          -1.4399999999999997,
          -0.67,
          -1.0199999999999998,
          -1.34,
          -1.3,
          -0.43,
          -0.12000000000000013,
          -0.12000000000000002,
          -0.38999999999999985,
          0.51,
          0.24000000000000013,
          -0.21999999999999997,
          0.3500000000000001,
          1.2200000000000002,
          1.18,
          0.6799999999999999,
          0.9400000000000001,
          0.3600000000000001,
          0.09000000000000004,
          -0.71,
          -0.9800000000000001,
          -0.9800000000000001,
          -1.61,
          -2.38,
          -1.8,
          -1.7900000000000003,
          -2.32,
          -2.23,
          -2.23,
          -1.69,
          -1.15,
          -0.6199999999999999,
          -0.48999999999999994,
          -0.22000000000000003,
          -0.8,
          -0.8100000000000002,
          -0.54,
          -0.82,
          -0.51,
          -1.09
         ]
        }
       ],
       "layout": {
        "template": {
         "data": {
          "bar": [
           {
            "error_x": {
             "color": "#2a3f5f"
            },
            "error_y": {
             "color": "#2a3f5f"
            },
            "marker": {
             "line": {
              "color": "#E5ECF6",
              "width": 0.5
             },
             "pattern": {
              "fillmode": "overlay",
              "size": 10,
              "solidity": 0.2
             }
            },
            "type": "bar"
           }
          ],
          "barpolar": [
           {
            "marker": {
             "line": {
              "color": "#E5ECF6",
              "width": 0.5
             },
             "pattern": {
              "fillmode": "overlay",
              "size": 10,
              "solidity": 0.2
             }
            },
            "type": "barpolar"
           }
          ],
          "carpet": [
           {
            "aaxis": {
             "endlinecolor": "#2a3f5f",
             "gridcolor": "white",
             "linecolor": "white",
             "minorgridcolor": "white",
             "startlinecolor": "#2a3f5f"
            },
            "baxis": {
             "endlinecolor": "#2a3f5f",
             "gridcolor": "white",
             "linecolor": "white",
             "minorgridcolor": "white",
             "startlinecolor": "#2a3f5f"
            },
            "type": "carpet"
           }
          ],
          "choropleth": [
           {
            "colorbar": {
             "outlinewidth": 0,
             "ticks": ""
            },
            "type": "choropleth"
           }
          ],
          "contour": [
           {
            "colorbar": {
             "outlinewidth": 0,
             "ticks": ""
            },
            "colorscale": [
             [
              0,
              "#0d0887"
             ],
             [
              0.1111111111111111,
              "#46039f"
             ],
             [
              0.2222222222222222,
              "#7201a8"
             ],
             [
              0.3333333333333333,
              "#9c179e"
             ],
             [
              0.4444444444444444,
              "#bd3786"
             ],
             [
              0.5555555555555556,
              "#d8576b"
             ],
             [
              0.6666666666666666,
              "#ed7953"
             ],
             [
              0.7777777777777778,
              "#fb9f3a"
             ],
             [
              0.8888888888888888,
              "#fdca26"
             ],
             [
              1,
              "#f0f921"
             ]
            ],
            "type": "contour"
           }
          ],
          "contourcarpet": [
           {
            "colorbar": {
             "outlinewidth": 0,
             "ticks": ""
            },
            "type": "contourcarpet"
           }
          ],
          "heatmap": [
           {
            "colorbar": {
             "outlinewidth": 0,
             "ticks": ""
            },
            "colorscale": [
             [
              0,
              "#0d0887"
             ],
             [
              0.1111111111111111,
              "#46039f"
             ],
             [
              0.2222222222222222,
              "#7201a8"
             ],
             [
              0.3333333333333333,
              "#9c179e"
             ],
             [
              0.4444444444444444,
              "#bd3786"
             ],
             [
              0.5555555555555556,
              "#d8576b"
             ],
             [
              0.6666666666666666,
              "#ed7953"
             ],
             [
              0.7777777777777778,
              "#fb9f3a"
             ],
             [
              0.8888888888888888,
              "#fdca26"
             ],
             [
              1,
              "#f0f921"
             ]
            ],
            "type": "heatmap"
           }
          ],
          "heatmapgl": [
           {
            "colorbar": {
             "outlinewidth": 0,
             "ticks": ""
            },
            "colorscale": [
             [
              0,
              "#0d0887"
             ],
             [
              0.1111111111111111,
              "#46039f"
             ],
             [
              0.2222222222222222,
              "#7201a8"
             ],
             [
              0.3333333333333333,
              "#9c179e"
             ],
             [
              0.4444444444444444,
              "#bd3786"
             ],
             [
              0.5555555555555556,
              "#d8576b"
             ],
             [
              0.6666666666666666,
              "#ed7953"
             ],
             [
              0.7777777777777778,
              "#fb9f3a"
             ],
             [
              0.8888888888888888,
              "#fdca26"
             ],
             [
              1,
              "#f0f921"
             ]
            ],
            "type": "heatmapgl"
           }
          ],
          "histogram": [
           {
            "marker": {
             "pattern": {
              "fillmode": "overlay",
              "size": 10,
              "solidity": 0.2
             }
            },
            "type": "histogram"
           }
          ],
          "histogram2d": [
           {
            "colorbar": {
             "outlinewidth": 0,
             "ticks": ""
            },
            "colorscale": [
             [
              0,
              "#0d0887"
             ],
             [
              0.1111111111111111,
              "#46039f"
             ],
             [
              0.2222222222222222,
              "#7201a8"
             ],
             [
              0.3333333333333333,
              "#9c179e"
             ],
             [
              0.4444444444444444,
              "#bd3786"
             ],
             [
              0.5555555555555556,
              "#d8576b"
             ],
             [
              0.6666666666666666,
              "#ed7953"
             ],
             [
              0.7777777777777778,
              "#fb9f3a"
             ],
             [
              0.8888888888888888,
              "#fdca26"
             ],
             [
              1,
              "#f0f921"
             ]
            ],
            "type": "histogram2d"
           }
          ],
          "histogram2dcontour": [
           {
            "colorbar": {
             "outlinewidth": 0,
             "ticks": ""
            },
            "colorscale": [
             [
              0,
              "#0d0887"
             ],
             [
              0.1111111111111111,
              "#46039f"
             ],
             [
              0.2222222222222222,
              "#7201a8"
             ],
             [
              0.3333333333333333,
              "#9c179e"
             ],
             [
              0.4444444444444444,
              "#bd3786"
             ],
             [
              0.5555555555555556,
              "#d8576b"
             ],
             [
              0.6666666666666666,
              "#ed7953"
             ],
             [
              0.7777777777777778,
              "#fb9f3a"
             ],
             [
              0.8888888888888888,
              "#fdca26"
             ],
             [
              1,
              "#f0f921"
             ]
            ],
            "type": "histogram2dcontour"
           }
          ],
          "mesh3d": [
           {
            "colorbar": {
             "outlinewidth": 0,
             "ticks": ""
            },
            "type": "mesh3d"
           }
          ],
          "parcoords": [
           {
            "line": {
             "colorbar": {
              "outlinewidth": 0,
              "ticks": ""
             }
            },
            "type": "parcoords"
           }
          ],
          "pie": [
           {
            "automargin": true,
            "type": "pie"
           }
          ],
          "scatter": [
           {
            "marker": {
             "colorbar": {
              "outlinewidth": 0,
              "ticks": ""
             }
            },
            "type": "scatter"
           }
          ],
          "scatter3d": [
           {
            "line": {
             "colorbar": {
              "outlinewidth": 0,
              "ticks": ""
             }
            },
            "marker": {
             "colorbar": {
              "outlinewidth": 0,
              "ticks": ""
             }
            },
            "type": "scatter3d"
           }
          ],
          "scattercarpet": [
           {
            "marker": {
             "colorbar": {
              "outlinewidth": 0,
              "ticks": ""
             }
            },
            "type": "scattercarpet"
           }
          ],
          "scattergeo": [
           {
            "marker": {
             "colorbar": {
              "outlinewidth": 0,
              "ticks": ""
             }
            },
            "type": "scattergeo"
           }
          ],
          "scattergl": [
           {
            "marker": {
             "colorbar": {
              "outlinewidth": 0,
              "ticks": ""
             }
            },
            "type": "scattergl"
           }
          ],
          "scattermapbox": [
           {
            "marker": {
             "colorbar": {
              "outlinewidth": 0,
              "ticks": ""
             }
            },
            "type": "scattermapbox"
           }
          ],
          "scatterpolar": [
           {
            "marker": {
             "colorbar": {
              "outlinewidth": 0,
              "ticks": ""
             }
            },
            "type": "scatterpolar"
           }
          ],
          "scatterpolargl": [
           {
            "marker": {
             "colorbar": {
              "outlinewidth": 0,
              "ticks": ""
             }
            },
            "type": "scatterpolargl"
           }
          ],
          "scatterternary": [
           {
            "marker": {
             "colorbar": {
              "outlinewidth": 0,
              "ticks": ""
             }
            },
            "type": "scatterternary"
           }
          ],
          "surface": [
           {
            "colorbar": {
             "outlinewidth": 0,
             "ticks": ""
            },
            "colorscale": [
             [
              0,
              "#0d0887"
             ],
             [
              0.1111111111111111,
              "#46039f"
             ],
             [
              0.2222222222222222,
              "#7201a8"
             ],
             [
              0.3333333333333333,
              "#9c179e"
             ],
             [
              0.4444444444444444,
              "#bd3786"
             ],
             [
              0.5555555555555556,
              "#d8576b"
             ],
             [
              0.6666666666666666,
              "#ed7953"
             ],
             [
              0.7777777777777778,
              "#fb9f3a"
             ],
             [
              0.8888888888888888,
              "#fdca26"
             ],
             [
              1,
              "#f0f921"
             ]
            ],
            "type": "surface"
           }
          ],
          "table": [
           {
            "cells": {
             "fill": {
              "color": "#EBF0F8"
             },
             "line": {
              "color": "white"
             }
            },
            "header": {
             "fill": {
              "color": "#C8D4E3"
             },
             "line": {
              "color": "white"
             }
            },
            "type": "table"
           }
          ]
         },
         "layout": {
          "annotationdefaults": {
           "arrowcolor": "#2a3f5f",
           "arrowhead": 0,
           "arrowwidth": 1
          },
          "autotypenumbers": "strict",
          "coloraxis": {
           "colorbar": {
            "outlinewidth": 0,
            "ticks": ""
           }
          },
          "colorscale": {
           "diverging": [
            [
             0,
             "#8e0152"
            ],
            [
             0.1,
             "#c51b7d"
            ],
            [
             0.2,
             "#de77ae"
            ],
            [
             0.3,
             "#f1b6da"
            ],
            [
             0.4,
             "#fde0ef"
            ],
            [
             0.5,
             "#f7f7f7"
            ],
            [
             0.6,
             "#e6f5d0"
            ],
            [
             0.7,
             "#b8e186"
            ],
            [
             0.8,
             "#7fbc41"
            ],
            [
             0.9,
             "#4d9221"
            ],
            [
             1,
             "#276419"
            ]
           ],
           "sequential": [
            [
             0,
             "#0d0887"
            ],
            [
             0.1111111111111111,
             "#46039f"
            ],
            [
             0.2222222222222222,
             "#7201a8"
            ],
            [
             0.3333333333333333,
             "#9c179e"
            ],
            [
             0.4444444444444444,
             "#bd3786"
            ],
            [
             0.5555555555555556,
             "#d8576b"
            ],
            [
             0.6666666666666666,
             "#ed7953"
            ],
            [
             0.7777777777777778,
             "#fb9f3a"
            ],
            [
             0.8888888888888888,
             "#fdca26"
            ],
            [
             1,
             "#f0f921"
            ]
           ],
           "sequentialminus": [
            [
             0,
             "#0d0887"
            ],
            [
             0.1111111111111111,
             "#46039f"
            ],
            [
             0.2222222222222222,
             "#7201a8"
            ],
            [
             0.3333333333333333,
             "#9c179e"
            ],
            [
             0.4444444444444444,
             "#bd3786"
            ],
            [
             0.5555555555555556,
             "#d8576b"
            ],
            [
             0.6666666666666666,
             "#ed7953"
            ],
            [
             0.7777777777777778,
             "#fb9f3a"
            ],
            [
             0.8888888888888888,
             "#fdca26"
            ],
            [
             1,
             "#f0f921"
            ]
           ]
          },
          "colorway": [
           "#636efa",
           "#EF553B",
           "#00cc96",
           "#ab63fa",
           "#FFA15A",
           "#19d3f3",
           "#FF6692",
           "#B6E880",
           "#FF97FF",
           "#FECB52"
          ],
          "font": {
           "color": "#2a3f5f"
          },
          "geo": {
           "bgcolor": "white",
           "lakecolor": "white",
           "landcolor": "#E5ECF6",
           "showlakes": true,
           "showland": true,
           "subunitcolor": "white"
          },
          "hoverlabel": {
           "align": "left"
          },
          "hovermode": "closest",
          "mapbox": {
           "style": "light"
          },
          "paper_bgcolor": "white",
          "plot_bgcolor": "#E5ECF6",
          "polar": {
           "angularaxis": {
            "gridcolor": "white",
            "linecolor": "white",
            "ticks": ""
           },
           "bgcolor": "#E5ECF6",
           "radialaxis": {
            "gridcolor": "white",
            "linecolor": "white",
            "ticks": ""
           }
          },
          "scene": {
           "xaxis": {
            "backgroundcolor": "#E5ECF6",
            "gridcolor": "white",
            "gridwidth": 2,
            "linecolor": "white",
            "showbackground": true,
            "ticks": "",
            "zerolinecolor": "white"
           },
           "yaxis": {
            "backgroundcolor": "#E5ECF6",
            "gridcolor": "white",
            "gridwidth": 2,
            "linecolor": "white",
            "showbackground": true,
            "ticks": "",
            "zerolinecolor": "white"
           },
           "zaxis": {
            "backgroundcolor": "#E5ECF6",
            "gridcolor": "white",
            "gridwidth": 2,
            "linecolor": "white",
            "showbackground": true,
            "ticks": "",
            "zerolinecolor": "white"
           }
          },
          "shapedefaults": {
           "line": {
            "color": "#2a3f5f"
           }
          },
          "ternary": {
           "aaxis": {
            "gridcolor": "white",
            "linecolor": "white",
            "ticks": ""
           },
           "baxis": {
            "gridcolor": "white",
            "linecolor": "white",
            "ticks": ""
           },
           "bgcolor": "#E5ECF6",
           "caxis": {
            "gridcolor": "white",
            "linecolor": "white",
            "ticks": ""
           }
          },
          "title": {
           "x": 0.05
          },
          "xaxis": {
           "automargin": true,
           "gridcolor": "white",
           "linecolor": "white",
           "ticks": "",
           "title": {
            "standoff": 15
           },
           "zerolinecolor": "white",
           "zerolinewidth": 2
          },
          "yaxis": {
           "automargin": true,
           "gridcolor": "white",
           "linecolor": "white",
           "ticks": "",
           "title": {
            "standoff": 15
           },
           "zerolinecolor": "white",
           "zerolinewidth": 2
          }
         }
        },
        "title": {
         "text": "G-protein coupled receptor 183, averaging window size: 10"
        },
        "xaxis": {
         "title": {
          "text": "amino acid position"
         }
        },
        "yaxis": {
         "title": {
          "text": "hydropathy index (Kyte-Doolittle method)"
         }
        }
       }
      }
     },
     "metadata": {},
     "output_type": "display_data"
    }
   ],
   "source": [
    "Protein_P32249 = Protein(\"P32249\", \n",
    "                        \"G-protein coupled receptor 183\", \n",
    "                        metrics = aa_dict)\n",
    "Protein_P32249.open_fasta_file(\"P32249.fasta\")\n",
    "Protein_P32249.create_df()\n",
    "Protein_P32249.plot(window_size = 1)\n",
    "Protein_P32249.plot(window_size = 5)\n",
    "Protein_P32249.plot(window_size = 10)"
   ]
  }
 ],
 "metadata": {
  "interpreter": {
   "hash": "f1d89035fd322facadca792ecc07eb95870fedc672cc3f404f565125eb857f01"
  },
  "kernelspec": {
   "display_name": "Python 3.9.1 64-bit ('.venv': venv)",
   "language": "python",
   "name": "python3"
  },
  "language_info": {
   "codemirror_mode": {
    "name": "ipython",
    "version": 3
   },
   "file_extension": ".py",
   "mimetype": "text/x-python",
   "name": "python",
   "nbconvert_exporter": "python",
   "pygments_lexer": "ipython3",
   "version": "3.9.1"
  },
  "orig_nbformat": 4
 },
 "nbformat": 4,
 "nbformat_minor": 2
}
