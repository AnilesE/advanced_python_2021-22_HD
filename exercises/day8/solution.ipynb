{
 "cells": [
  {
   "cell_type": "code",
   "execution_count": 282,
   "metadata": {},
   "outputs": [],
   "source": [
    "import regex as re\n",
    "import pandas as pd\n",
    "from collections import Counter"
   ]
  },
  {
   "cell_type": "code",
   "execution_count": 328,
   "metadata": {},
   "outputs": [],
   "source": [
    "data = {\"mz_values\" : [], \"intensity_values\" : [], \"Name\": [], \"iter\": []}\n",
    "# sequence_data = {\"sequence\": [], \"Fullname\": [], \"Collision_energy\" : [], , \"iter\": [], \"No match\": []}\n",
    "sequence_data = {\"sequence\": [], \"Fullname\": [], \"No match\": [], \"iter\": [], \"No match\": []}\n",
    "\n",
    "iter = 0\n",
    "with open(\"cptac2_mouse_hcd_selected.msp\") as f: \n",
    "    for line in f:\n",
    "        line = line.replace(\"\\n\",\"\")\n",
    "        if line.startswith(\"Comment\") or line.startswith(\"MW\") or line.startswith(\"Num peaks\") or line == \"\":\n",
    "            continue\n",
    "        if line.startswith(\"Name\"):\n",
    "            NameObj = re.match(r\"Name: (.*)/\\d_\\d.*_(.*)eV\", line)\n",
    "            if NameObj:\n",
    "                Name = NameObj.group(1)\n",
    "                Collision_energy = float(NameObj.group(2))\n",
    "                if len(Name) <= 30 and Collision_energy <= 40 and Collision_energy >= 36:\n",
    "                    sequence_data[\"sequence\"].append(Name)\n",
    "                    iter = iter + 1\n",
    "                    sequence_data[\"iter\"].append(iter)\n",
    "                    # sequence_data[\"Collision_energy\"].append(Collision_energy)\n",
    "            else: sequence_data[\"No match\"].append([\"No match with Name...\", line])\n",
    "        else:\n",
    "            ValueObj = re.match(r\"(.*)\\t(.*)\\t.*\", line)\n",
    "            if ValueObj:\n",
    "                    mz = round(float(ValueObj.group(1)))\n",
    "                    intensity = float(ValueObj.group(2))\n",
    "                    if len(Name) <= 30 and Collision_energy <= 40 and Collision_energy >= 36 and mz >= 135 and mz <= 1400:\n",
    "                        data[\"mz_values\"].append(mz)\n",
    "                        data[\"intensity_values\"].append(intensity)\n",
    "                        data[\"Name\"].append(Name)\n",
    "                        data[\"iter\"].append(iter)\n",
    "            # else: data[\"No match\"].append([\"No match with ...\", line])    \n"
   ]
  },
  {
   "cell_type": "code",
   "execution_count": 327,
   "metadata": {},
   "outputs": [
    {
     "data": {
      "text/plain": [
       "[]"
      ]
     },
     "execution_count": 327,
     "metadata": {},
     "output_type": "execute_result"
    }
   ],
   "source": [
    "df_data = pd.DataFrame.from_dict(data)\n",
    "# df1 = pd.DataFrame(index = round(df_data[\"mz_values\"]).unique())\n",
    "# df_cleaned = pd.DataFrame()\n",
    "df_data"
   ]
  },
  {
   "cell_type": "code",
   "execution_count": 316,
   "metadata": {},
   "outputs": [],
   "source": [
    "gr = df_data.groupby(\"iter\")"
   ]
  },
  {
   "cell_type": "code",
   "execution_count": 317,
   "metadata": {},
   "outputs": [
    {
     "data": {
      "text/html": [
       "<div>\n",
       "<style scoped>\n",
       "    .dataframe tbody tr th:only-of-type {\n",
       "        vertical-align: middle;\n",
       "    }\n",
       "\n",
       "    .dataframe tbody tr th {\n",
       "        vertical-align: top;\n",
       "    }\n",
       "\n",
       "    .dataframe thead th {\n",
       "        text-align: right;\n",
       "    }\n",
       "</style>\n",
       "<table border=\"1\" class=\"dataframe\">\n",
       "  <thead>\n",
       "    <tr style=\"text-align: right;\">\n",
       "      <th></th>\n",
       "      <th>mz_values</th>\n",
       "      <th>intensity_values</th>\n",
       "      <th>Name</th>\n",
       "      <th>iter</th>\n",
       "    </tr>\n",
       "  </thead>\n",
       "  <tbody>\n",
       "    <tr>\n",
       "      <th>0</th>\n",
       "      <td>136.0196</td>\n",
       "      <td>924.3</td>\n",
       "      <td>AAAFEDQENETVVVK</td>\n",
       "      <td>1</td>\n",
       "    </tr>\n",
       "    <tr>\n",
       "      <th>1</th>\n",
       "      <td>136.0758</td>\n",
       "      <td>2851.7</td>\n",
       "      <td>AAAFEDQENETVVVK</td>\n",
       "      <td>1</td>\n",
       "    </tr>\n",
       "    <tr>\n",
       "      <th>2</th>\n",
       "      <td>141.1025</td>\n",
       "      <td>1404.0</td>\n",
       "      <td>AAAFEDQENETVVVK</td>\n",
       "      <td>1</td>\n",
       "    </tr>\n",
       "    <tr>\n",
       "      <th>3</th>\n",
       "      <td>143.0816</td>\n",
       "      <td>26365.8</td>\n",
       "      <td>AAAFEDQENETVVVK</td>\n",
       "      <td>1</td>\n",
       "    </tr>\n",
       "    <tr>\n",
       "      <th>4</th>\n",
       "      <td>144.8338</td>\n",
       "      <td>1128.4</td>\n",
       "      <td>AAAFEDQENETVVVK</td>\n",
       "      <td>1</td>\n",
       "    </tr>\n",
       "    <tr>\n",
       "      <th>...</th>\n",
       "      <td>...</td>\n",
       "      <td>...</td>\n",
       "      <td>...</td>\n",
       "      <td>...</td>\n",
       "    </tr>\n",
       "    <tr>\n",
       "      <th>161</th>\n",
       "      <td>1291.6150</td>\n",
       "      <td>7756.5</td>\n",
       "      <td>AAAFEDQENETVVVK</td>\n",
       "      <td>1</td>\n",
       "    </tr>\n",
       "    <tr>\n",
       "      <th>162</th>\n",
       "      <td>1293.5999</td>\n",
       "      <td>3007.4</td>\n",
       "      <td>AAAFEDQENETVVVK</td>\n",
       "      <td>1</td>\n",
       "    </tr>\n",
       "    <tr>\n",
       "      <th>163</th>\n",
       "      <td>1309.6501</td>\n",
       "      <td>2700.8</td>\n",
       "      <td>AAAFEDQENETVVVK</td>\n",
       "      <td>1</td>\n",
       "    </tr>\n",
       "    <tr>\n",
       "      <th>164</th>\n",
       "      <td>1335.6620</td>\n",
       "      <td>7148.2</td>\n",
       "      <td>AAAFEDQENETVVVK</td>\n",
       "      <td>1</td>\n",
       "    </tr>\n",
       "    <tr>\n",
       "      <th>165</th>\n",
       "      <td>1398.6517</td>\n",
       "      <td>2797.6</td>\n",
       "      <td>AAAFEDQENETVVVK</td>\n",
       "      <td>1</td>\n",
       "    </tr>\n",
       "  </tbody>\n",
       "</table>\n",
       "<p>166 rows × 4 columns</p>\n",
       "</div>"
      ],
      "text/plain": [
       "     mz_values  intensity_values             Name  iter\n",
       "0     136.0196             924.3  AAAFEDQENETVVVK     1\n",
       "1     136.0758            2851.7  AAAFEDQENETVVVK     1\n",
       "2     141.1025            1404.0  AAAFEDQENETVVVK     1\n",
       "3     143.0816           26365.8  AAAFEDQENETVVVK     1\n",
       "4     144.8338            1128.4  AAAFEDQENETVVVK     1\n",
       "..         ...               ...              ...   ...\n",
       "161  1291.6150            7756.5  AAAFEDQENETVVVK     1\n",
       "162  1293.5999            3007.4  AAAFEDQENETVVVK     1\n",
       "163  1309.6501            2700.8  AAAFEDQENETVVVK     1\n",
       "164  1335.6620            7148.2  AAAFEDQENETVVVK     1\n",
       "165  1398.6517            2797.6  AAAFEDQENETVVVK     1\n",
       "\n",
       "[166 rows x 4 columns]"
      ]
     },
     "execution_count": 317,
     "metadata": {},
     "output_type": "execute_result"
    }
   ],
   "source": [
    "gr.get_group(1).sort_values(\"intensity_values\", ascending=False).drop_duplicates(\"mz_values\").sort_index()"
   ]
  },
  {
   "cell_type": "code",
   "execution_count": null,
   "metadata": {},
   "outputs": [],
   "source": [
    "for mz in df1.index:\n",
    "    for i in gri.index:\n",
    "        if gri.loc[i, \"mz_values\"] == mz:\n",
    "            df1.loc[mz, gri[\"Name\"]] = gri.loc[i, \"mz_values\"]\n",
    "        else: \n",
    "            df1.loc[mz, gri[\"Name\"]] = 0"
   ]
  },
  {
   "cell_type": "code",
   "execution_count": 288,
   "metadata": {},
   "outputs": [
    {
     "data": {
      "text/html": [
       "<div>\n",
       "<style scoped>\n",
       "    .dataframe tbody tr th:only-of-type {\n",
       "        vertical-align: middle;\n",
       "    }\n",
       "\n",
       "    .dataframe tbody tr th {\n",
       "        vertical-align: top;\n",
       "    }\n",
       "\n",
       "    .dataframe thead th {\n",
       "        text-align: right;\n",
       "    }\n",
       "</style>\n",
       "<table border=\"1\" class=\"dataframe\">\n",
       "  <thead>\n",
       "    <tr style=\"text-align: right;\">\n",
       "      <th></th>\n",
       "    </tr>\n",
       "  </thead>\n",
       "  <tbody>\n",
       "    <tr>\n",
       "      <th>136.0</th>\n",
       "    </tr>\n",
       "    <tr>\n",
       "      <th>141.0</th>\n",
       "    </tr>\n",
       "    <tr>\n",
       "      <th>143.0</th>\n",
       "    </tr>\n",
       "    <tr>\n",
       "      <th>145.0</th>\n",
       "    </tr>\n",
       "    <tr>\n",
       "      <th>147.0</th>\n",
       "    </tr>\n",
       "    <tr>\n",
       "      <th>...</th>\n",
       "    </tr>\n",
       "    <tr>\n",
       "      <th>1316.0</th>\n",
       "    </tr>\n",
       "    <tr>\n",
       "      <th>1392.0</th>\n",
       "    </tr>\n",
       "    <tr>\n",
       "      <th>1338.0</th>\n",
       "    </tr>\n",
       "    <tr>\n",
       "      <th>1393.0</th>\n",
       "    </tr>\n",
       "    <tr>\n",
       "      <th>1327.0</th>\n",
       "    </tr>\n",
       "  </tbody>\n",
       "</table>\n",
       "<p>1266 rows × 0 columns</p>\n",
       "</div>"
      ],
      "text/plain": [
       "Empty DataFrame\n",
       "Columns: []\n",
       "Index: [136.0, 141.0, 143.0, 145.0, 147.0, 148.0, 155.0, 157.0, 161.0, 165.0, 167.0, 169.0, 171.0, 173.0, 175.0, 185.0, 189.0, 191.0, 192.0, 194.0, 195.0, 197.0, 199.0, 201.0, 209.0, 213.0, 214.0, 215.0, 217.0, 219.0, 226.0, 227.0, 228.0, 234.0, 241.0, 242.0, 243.0, 244.0, 245.0, 246.0, 247.0, 249.0, 258.0, 260.0, 261.0, 270.0, 272.0, 277.0, 278.0, 290.0, 297.0, 298.0, 300.0, 306.0, 307.0, 310.0, 316.0, 325.0, 327.0, 333.0, 334.0, 339.0, 343.0, 344.0, 345.0, 346.0, 348.0, 355.0, 361.0, 371.0, 373.0, 387.0, 392.0, 405.0, 409.0, 419.0, 426.0, 435.0, 444.0, 456.0, 463.0, 472.0, 490.0, 528.0, 545.0, 555.0, 640.0, 646.0, 647.0, 655.0, 661.0, 666.0, 674.0, 675.0, 690.0, 706.0, 707.0, 711.0, 724.0, 725.0, ...]\n",
       "\n",
       "[1266 rows x 0 columns]"
      ]
     },
     "execution_count": 288,
     "metadata": {},
     "output_type": "execute_result"
    }
   ],
   "source": [
    "df1"
   ]
  }
 ],
 "metadata": {
  "interpreter": {
   "hash": "f1d89035fd322facadca792ecc07eb95870fedc672cc3f404f565125eb857f01"
  },
  "kernelspec": {
   "display_name": "Python 3.9.1 64-bit ('.venv': venv)",
   "language": "python",
   "name": "python3"
  },
  "language_info": {
   "codemirror_mode": {
    "name": "ipython",
    "version": 3
   },
   "file_extension": ".py",
   "mimetype": "text/x-python",
   "name": "python",
   "nbconvert_exporter": "python",
   "pygments_lexer": "ipython3",
   "version": "3.9.1"
  },
  "orig_nbformat": 4
 },
 "nbformat": 4,
 "nbformat_minor": 2
}
